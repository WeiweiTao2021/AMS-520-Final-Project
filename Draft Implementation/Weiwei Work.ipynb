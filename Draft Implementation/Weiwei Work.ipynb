{
 "cells": [
  {
   "cell_type": "markdown",
   "metadata": {},
   "source": [
    "# AMS 520 Final Project\n",
    "\n",
    "This notebook contains codes and report implementing 'Model high-frequency limit order book dynamics with SVM' written by Edward Cummings, Anton Malandii, Jack Peters, and Weiwei Tao."
   ]
  },
  {
   "cell_type": "code",
   "execution_count": 1,
   "metadata": {},
   "outputs": [
    {
     "ename": "ModuleNotFoundError",
     "evalue": "No module named 'sklearn'",
     "output_type": "error",
     "traceback": [
      "\u001b[0;31m---------------------------------------------------------------------------\u001b[0m",
      "\u001b[0;31mModuleNotFoundError\u001b[0m                       Traceback (most recent call last)",
      "Cell \u001b[0;32mIn [1], line 20\u001b[0m\n\u001b[1;32m     16\u001b[0m warnings\u001b[38;5;241m.\u001b[39mfilterwarnings(\u001b[38;5;124m\"\u001b[39m\u001b[38;5;124mignore\u001b[39m\u001b[38;5;124m\"\u001b[39m)\n\u001b[1;32m     18\u001b[0m \u001b[38;5;66;03m# from sklearnex import patch_sklearn ## Must run patch before importing other sklearn functions!!!\u001b[39;00m\n\u001b[1;32m     19\u001b[0m \u001b[38;5;66;03m# patch_sklearn()\u001b[39;00m\n\u001b[0;32m---> 20\u001b[0m \u001b[38;5;28;01mfrom\u001b[39;00m \u001b[38;5;21;01msklearn\u001b[39;00m\u001b[38;5;21;01m.\u001b[39;00m\u001b[38;5;21;01mmodel_selection\u001b[39;00m \u001b[38;5;28;01mimport\u001b[39;00m train_test_split\n\u001b[1;32m     21\u001b[0m \u001b[38;5;28;01mfrom\u001b[39;00m \u001b[38;5;21;01msklearn\u001b[39;00m\u001b[38;5;21;01m.\u001b[39;00m\u001b[38;5;21;01mpreprocessing\u001b[39;00m \u001b[38;5;28;01mimport\u001b[39;00m StandardScaler\n\u001b[1;32m     22\u001b[0m \u001b[38;5;28;01mfrom\u001b[39;00m \u001b[38;5;21;01msklearn\u001b[39;00m\u001b[38;5;21;01m.\u001b[39;00m\u001b[38;5;21;01mbase\u001b[39;00m \u001b[38;5;28;01mimport\u001b[39;00m BaseEstimator, TransformerMixin\n",
      "\u001b[0;31mModuleNotFoundError\u001b[0m: No module named 'sklearn'"
     ]
    }
   ],
   "source": [
    "import functools as fn\n",
    "\n",
    "import pytz\n",
    "import datetime\n",
    "from datetime import datetime, timedelta\n",
    "import math\n",
    "\n",
    "import pandas as pd\n",
    "import numpy as np\n",
    "import scipy.stats as scs\n",
    "from matplotlib import pyplot as plt\n",
    "\n",
    "pd.set_option('display.max_columns', None)\n",
    "\n",
    "import warnings\n",
    "warnings.filterwarnings(\"ignore\")\n",
    "\n",
    "# from sklearnex import patch_sklearn ## Must run patch before importing other sklearn functions!!!\n",
    "# patch_sklearn()\n",
    "from sklearn.model_selection import train_test_split\n",
    "from sklearn.preprocessing import StandardScaler\n",
    "from sklearn.base import BaseEstimator, TransformerMixin\n",
    "from sklearn.pipeline import Pipeline\n",
    "from sklearn.svm import SVC\n",
    "from sklearn.model_selection import StratifiedShuffleSplit\n",
    "from sklearn.metrics import classification_report, confusion_matrix"
   ]
  },
  {
   "cell_type": "markdown",
   "metadata": {},
   "source": [
    "## Part 1. Data Exploration\n",
    "\n",
    "### Trade dataset\n",
    "\n",
    "The trade dataset contains 243K UTP trade records from 14 different Stock Exchanges on 2022-01-06 between 4 a.m. until 8 p.m. EST for AAPL.\n",
    "\n",
    "1. The trade prices varies from $292.75 to $314.61 while the trade volume varies from 1 to 1e6.\n",
    "2. There are 5 different trading corrections: 00 = Regular trade, 1 - Original trade which was late corrected, 12 = Correction record, 08 = Original trade which was later cancelled, and 10 = Cancel record. More than 99% tredes were regular trade.\n",
    "3. In the trade dataset, there are two time related variables available - Time and Participant timestamp. \n",
    "\n",
    "### Quote dataset\n",
    "The quote dataset contains 473K UTP quote records from 13 different Stock Exchanges on 2022-01-06 for AAPL.\n",
    "\n",
    "1. The quote dataset contains bid/offer prices and best bid/offer prices.\n",
    "2. There are three different quote conditions: R = NBBO Regular, two-sided open quote, Y = NBBO Regular – One Sided Quote, and L = NBBO Closed Market Maker. More than 99% trades were regular two-sided open quote.\n",
    "\n",
    "According to the data exploration, there are some outliers existing in the dataset. In the cleaned the dataset, we removed the outliers in the price and volume data, quote and trades didn't belong to regular condiitons."
   ]
  },
  {
   "cell_type": "code",
   "execution_count": 2,
   "metadata": {},
   "outputs": [],
   "source": [
    "def ts_to_pdts(ptimestamp, dte):\n",
    "    \"\"\"\n",
    "    dte should be day of TAQ timestamp as datetime.datetime instance\n",
    "    convert participant timestamp to time\n",
    "    \"\"\"\n",
    "    str_zpad = str(ptimestamp).zfill(15)\n",
    "    return pd.Timestamp(dte.year, dte.month, dte.day, int(str_zpad[:2]), int(str_zpad[2:4]), int(str_zpad[4:6]), 0, int(str_zpad[6:]))\n",
    "\n",
    "day = datetime(2020,1,6)\n",
    "pdts = fn.partial(ts_to_pdts, dte=day)"
   ]
  },
  {
   "cell_type": "code",
   "execution_count": 3,
   "metadata": {},
   "outputs": [
    {
     "name": "stdout",
     "output_type": "stream",
     "text": [
      "There are 242878 trades on Jan 6th.\n",
      "\n",
      "The minimum time is 03:59 and the max time is 19:59 EST.\n",
      "\n",
      "The summary statistics for trade price and values can be seen below:\n",
      "\n"
     ]
    },
    {
     "data": {
      "text/html": [
       "<div>\n",
       "<style scoped>\n",
       "    .dataframe tbody tr th:only-of-type {\n",
       "        vertical-align: middle;\n",
       "    }\n",
       "\n",
       "    .dataframe tbody tr th {\n",
       "        vertical-align: top;\n",
       "    }\n",
       "\n",
       "    .dataframe thead th {\n",
       "        text-align: right;\n",
       "    }\n",
       "</style>\n",
       "<table border=\"1\" class=\"dataframe\">\n",
       "  <thead>\n",
       "    <tr style=\"text-align: right;\">\n",
       "      <th></th>\n",
       "      <th>Trade_Volume</th>\n",
       "      <th>Trade_Price</th>\n",
       "    </tr>\n",
       "  </thead>\n",
       "  <tbody>\n",
       "    <tr>\n",
       "      <th>count</th>\n",
       "      <td>2.428780e+05</td>\n",
       "      <td>242878.000000</td>\n",
       "    </tr>\n",
       "    <tr>\n",
       "      <th>mean</th>\n",
       "      <td>1.293561e+02</td>\n",
       "      <td>297.761787</td>\n",
       "    </tr>\n",
       "    <tr>\n",
       "      <th>std</th>\n",
       "      <td>3.760743e+03</td>\n",
       "      <td>1.721541</td>\n",
       "    </tr>\n",
       "    <tr>\n",
       "      <th>min</th>\n",
       "      <td>1.000000e+00</td>\n",
       "      <td>292.750000</td>\n",
       "    </tr>\n",
       "    <tr>\n",
       "      <th>25%</th>\n",
       "      <td>1.300000e+01</td>\n",
       "      <td>296.679525</td>\n",
       "    </tr>\n",
       "    <tr>\n",
       "      <th>50%</th>\n",
       "      <td>7.300000e+01</td>\n",
       "      <td>298.137400</td>\n",
       "    </tr>\n",
       "    <tr>\n",
       "      <th>75%</th>\n",
       "      <td>1.000000e+02</td>\n",
       "      <td>299.230000</td>\n",
       "    </tr>\n",
       "    <tr>\n",
       "      <th>max</th>\n",
       "      <td>1.115540e+06</td>\n",
       "      <td>314.611381</td>\n",
       "    </tr>\n",
       "  </tbody>\n",
       "</table>\n",
       "</div>"
      ],
      "text/plain": [
       "       Trade_Volume    Trade_Price\n",
       "count  2.428780e+05  242878.000000\n",
       "mean   1.293561e+02     297.761787\n",
       "std    3.760743e+03       1.721541\n",
       "min    1.000000e+00     292.750000\n",
       "25%    1.300000e+01     296.679525\n",
       "50%    7.300000e+01     298.137400\n",
       "75%    1.000000e+02     299.230000\n",
       "max    1.115540e+06     314.611381"
      ]
     },
     "execution_count": 3,
     "metadata": {},
     "output_type": "execute_result"
    }
   ],
   "source": [
    "t = pd.read_csv('./query_trades_AAPL_20200106_born202210121745.csv',)\n",
    "\n",
    "t['pdts'] = t['Participant_Timestamp'].apply(pdts)\n",
    "t['minute'] = pd.to_datetime(t['pdts']).dt.strftime('%H:%M')\n",
    "mintime = t['minute'].min()\n",
    "maxtime = t['minute'].max()\n",
    "\n",
    "print(f'There are {t.shape[0]} trades on Jan 6th.\\n')\n",
    "print(f'The minimum time is {mintime} and the max time is {maxtime} EST.\\n')\n",
    "print(f'The summary statistics for trade price and values can be seen below:\\n')\n",
    "t[['Trade_Volume', 'Trade_Price']].describe()"
   ]
  },
  {
   "cell_type": "code",
   "execution_count": 9,
   "metadata": {},
   "outputs": [
    {
     "data": {
      "text/html": [
       "<div>\n",
       "<style scoped>\n",
       "    .dataframe tbody tr th:only-of-type {\n",
       "        vertical-align: middle;\n",
       "    }\n",
       "\n",
       "    .dataframe tbody tr th {\n",
       "        vertical-align: top;\n",
       "    }\n",
       "\n",
       "    .dataframe thead th {\n",
       "        text-align: right;\n",
       "    }\n",
       "</style>\n",
       "<table border=\"1\" class=\"dataframe\">\n",
       "  <thead>\n",
       "    <tr style=\"text-align: right;\">\n",
       "      <th></th>\n",
       "      <th>Time</th>\n",
       "      <th>Exchange</th>\n",
       "      <th>Symbol</th>\n",
       "      <th>Sale_Condition</th>\n",
       "      <th>Trade_Volume</th>\n",
       "      <th>Trade_Price</th>\n",
       "      <th>Trade_Stop_Stock_Indicator</th>\n",
       "      <th>Trade_Correction_Indicator</th>\n",
       "      <th>Sequence_Number</th>\n",
       "      <th>Trade_Id</th>\n",
       "      <th>Source_of_Trade</th>\n",
       "      <th>Trade_Reporting_Facility</th>\n",
       "      <th>Participant_Timestamp</th>\n",
       "      <th>Trade_Reporting_Facility_TRF_Timestamp</th>\n",
       "      <th>Trade_Through_Exempt_Indicator</th>\n",
       "      <th>Date</th>\n",
       "      <th>YearMonth</th>\n",
       "      <th>pdts</th>\n",
       "      <th>minute</th>\n",
       "      <th>Trade_Correction_Levels</th>\n",
       "    </tr>\n",
       "  </thead>\n",
       "  <tbody>\n",
       "    <tr>\n",
       "      <th>0</th>\n",
       "      <td>2020-01-06 04:00:00.064 -0500</td>\n",
       "      <td>P</td>\n",
       "      <td>AAPL</td>\n",
       "      <td>@ T</td>\n",
       "      <td>488</td>\n",
       "      <td>295.43</td>\n",
       "      <td>NaN</td>\n",
       "      <td>0</td>\n",
       "      <td>1192</td>\n",
       "      <td>1</td>\n",
       "      <td>N</td>\n",
       "      <td></td>\n",
       "      <td>40000064303360</td>\n",
       "      <td>NaN</td>\n",
       "      <td>1</td>\n",
       "      <td>2020-01-05</td>\n",
       "      <td>202001</td>\n",
       "      <td>2020-01-06 03:59:59.999878851</td>\n",
       "      <td>03:59</td>\n",
       "      <td>Regular trade</td>\n",
       "    </tr>\n",
       "    <tr>\n",
       "      <th>1</th>\n",
       "      <td>2020-01-06 04:00:00.104 -0500</td>\n",
       "      <td>P</td>\n",
       "      <td>AAPL</td>\n",
       "      <td>@FT</td>\n",
       "      <td>100</td>\n",
       "      <td>295.26</td>\n",
       "      <td>NaN</td>\n",
       "      <td>0</td>\n",
       "      <td>1195</td>\n",
       "      <td>2</td>\n",
       "      <td>N</td>\n",
       "      <td></td>\n",
       "      <td>40000103686400</td>\n",
       "      <td>NaN</td>\n",
       "      <td>1</td>\n",
       "      <td>2020-01-05</td>\n",
       "      <td>202001</td>\n",
       "      <td>2020-01-06 04:00:00.000607184</td>\n",
       "      <td>04:00</td>\n",
       "      <td>Regular trade</td>\n",
       "    </tr>\n",
       "    <tr>\n",
       "      <th>2</th>\n",
       "      <td>2020-01-06 04:00:00.104 -0500</td>\n",
       "      <td>P</td>\n",
       "      <td>AAPL</td>\n",
       "      <td>@FT</td>\n",
       "      <td>100</td>\n",
       "      <td>295.25</td>\n",
       "      <td>NaN</td>\n",
       "      <td>0</td>\n",
       "      <td>1196</td>\n",
       "      <td>3</td>\n",
       "      <td>N</td>\n",
       "      <td></td>\n",
       "      <td>40000103686400</td>\n",
       "      <td>NaN</td>\n",
       "      <td>1</td>\n",
       "      <td>2020-01-05</td>\n",
       "      <td>202001</td>\n",
       "      <td>2020-01-06 04:00:00.000607184</td>\n",
       "      <td>04:00</td>\n",
       "      <td>Regular trade</td>\n",
       "    </tr>\n",
       "    <tr>\n",
       "      <th>3</th>\n",
       "      <td>2020-01-06 04:00:00.197 -0500</td>\n",
       "      <td>P</td>\n",
       "      <td>AAPL</td>\n",
       "      <td>@FTI</td>\n",
       "      <td>25</td>\n",
       "      <td>295.12</td>\n",
       "      <td>NaN</td>\n",
       "      <td>0</td>\n",
       "      <td>1198</td>\n",
       "      <td>4</td>\n",
       "      <td>N</td>\n",
       "      <td></td>\n",
       "      <td>40000197144064</td>\n",
       "      <td>NaN</td>\n",
       "      <td>1</td>\n",
       "      <td>2020-01-05</td>\n",
       "      <td>202001</td>\n",
       "      <td>2020-01-06 03:59:59.999575569</td>\n",
       "      <td>03:59</td>\n",
       "      <td>Regular trade</td>\n",
       "    </tr>\n",
       "    <tr>\n",
       "      <th>4</th>\n",
       "      <td>2020-01-06 04:00:00.197 -0500</td>\n",
       "      <td>P</td>\n",
       "      <td>AAPL</td>\n",
       "      <td>@FTI</td>\n",
       "      <td>1</td>\n",
       "      <td>295.08</td>\n",
       "      <td>NaN</td>\n",
       "      <td>0</td>\n",
       "      <td>1199</td>\n",
       "      <td>5</td>\n",
       "      <td>N</td>\n",
       "      <td></td>\n",
       "      <td>40000197144064</td>\n",
       "      <td>NaN</td>\n",
       "      <td>1</td>\n",
       "      <td>2020-01-05</td>\n",
       "      <td>202001</td>\n",
       "      <td>2020-01-06 03:59:59.999575569</td>\n",
       "      <td>03:59</td>\n",
       "      <td>Regular trade</td>\n",
       "    </tr>\n",
       "  </tbody>\n",
       "</table>\n",
       "</div>"
      ],
      "text/plain": [
       "                            Time Exchange Symbol Sale_Condition  Trade_Volume  \\\n",
       "0  2020-01-06 04:00:00.064 -0500        P   AAPL           @ T            488   \n",
       "1  2020-01-06 04:00:00.104 -0500        P   AAPL           @FT            100   \n",
       "2  2020-01-06 04:00:00.104 -0500        P   AAPL           @FT            100   \n",
       "3  2020-01-06 04:00:00.197 -0500        P   AAPL           @FTI            25   \n",
       "4  2020-01-06 04:00:00.197 -0500        P   AAPL           @FTI             1   \n",
       "\n",
       "   Trade_Price  Trade_Stop_Stock_Indicator  Trade_Correction_Indicator  \\\n",
       "0       295.43                         NaN                           0   \n",
       "1       295.26                         NaN                           0   \n",
       "2       295.25                         NaN                           0   \n",
       "3       295.12                         NaN                           0   \n",
       "4       295.08                         NaN                           0   \n",
       "\n",
       "   Sequence_Number  Trade_Id Source_of_Trade Trade_Reporting_Facility  \\\n",
       "0             1192         1               N                            \n",
       "1             1195         2               N                            \n",
       "2             1196         3               N                            \n",
       "3             1198         4               N                            \n",
       "4             1199         5               N                            \n",
       "\n",
       "   Participant_Timestamp  Trade_Reporting_Facility_TRF_Timestamp  \\\n",
       "0         40000064303360                                     NaN   \n",
       "1         40000103686400                                     NaN   \n",
       "2         40000103686400                                     NaN   \n",
       "3         40000197144064                                     NaN   \n",
       "4         40000197144064                                     NaN   \n",
       "\n",
       "   Trade_Through_Exempt_Indicator        Date  YearMonth  \\\n",
       "0                               1  2020-01-05     202001   \n",
       "1                               1  2020-01-05     202001   \n",
       "2                               1  2020-01-05     202001   \n",
       "3                               1  2020-01-05     202001   \n",
       "4                               1  2020-01-05     202001   \n",
       "\n",
       "                           pdts minute Trade_Correction_Levels  \n",
       "0 2020-01-06 03:59:59.999878851  03:59           Regular trade  \n",
       "1 2020-01-06 04:00:00.000607184  04:00           Regular trade  \n",
       "2 2020-01-06 04:00:00.000607184  04:00           Regular trade  \n",
       "3 2020-01-06 03:59:59.999575569  03:59           Regular trade  \n",
       "4 2020-01-06 03:59:59.999575569  03:59           Regular trade  "
      ]
     },
     "execution_count": 9,
     "metadata": {},
     "output_type": "execute_result"
    }
   ],
   "source": [
    "t.head()"
   ]
  },
  {
   "cell_type": "code",
   "execution_count": 4,
   "metadata": {},
   "outputs": [
    {
     "name": "stdout",
     "output_type": "stream",
     "text": [
      "Symbol (Nunique= 1 ):  ['AAPL']\n",
      "Source_of_Trade (Nunique= 1 ):  ['N']\n",
      "Exchange (Nunique= 14 ):  ['P' 'Q' 'K' 'J' 'Z' 'Y' 'D' 'B' 'N' 'X' 'C' 'M' 'V' 'A']\n",
      "Sale_Condition (Nunique= 30 ):  ['@ T ' '@FT ' '@FTI' '@ TI' 'N T ' 'C TI' '@   ' '@F I' '@  I' '@  Q'\n",
      " '@F  ' '@O X' '@4  ' '@7 V' '@4 I' '@ ZI' '@ Z ' 'N  I' '@7 I' 'C  I'\n",
      " 'N   ' '@4 W' '@7  ' 'C   ' '@  W' '@  M' '@6 X' '@ TW' '@ TP' '@ UW']\n",
      "Trade_Correction_Indicator (Nunique= 5 ):  [ 0  8 10  1 12]\n"
     ]
    }
   ],
   "source": [
    "cols = ['Symbol', 'Source_of_Trade', 'Exchange', 'Sale_Condition', 'Trade_Correction_Indicator']\n",
    "for col in cols:\n",
    "    print(col, '(Nunique=',t[col].nunique() ,'): ',t[col].unique())"
   ]
  },
  {
   "cell_type": "code",
   "execution_count": 5,
   "metadata": {},
   "outputs": [
    {
     "name": "stdout",
     "output_type": "stream",
     "text": [
      "The distribution of trade correction is as:\n",
      "\n"
     ]
    },
    {
     "data": {
      "text/plain": [
       "Regular trade                               0.999942\n",
       "Original trade which was later cancelled    0.000025\n",
       "Cancel record                               0.000025\n",
       "Original trade which was late corrected     0.000004\n",
       "Correction record                           0.000004\n",
       "Name: Trade_Correction_Levels, dtype: float64"
      ]
     },
     "execution_count": 5,
     "metadata": {},
     "output_type": "execute_result"
    }
   ],
   "source": [
    "print('The distribution of trade correction is as:\\n')\n",
    "t['Trade_Correction_Levels'] = t['Trade_Correction_Indicator'].replace({0: 'Regular trade', 8: 'Original trade which was later cancelled', 10: 'Cancel record', 1: 'Original trade which was late corrected', 12: 'Correction record'})\n",
    "t['Trade_Correction_Levels'].value_counts(normalize = True)"
   ]
  },
  {
   "cell_type": "code",
   "execution_count": 10,
   "metadata": {},
   "outputs": [
    {
     "data": {
      "image/png": "[encoded data removed]",
      "text/plain": [
       "<Figure size 1000x300 with 2 Axes>"
      ]
     },
     "metadata": {},
     "output_type": "display_data"
    }
   ],
   "source": [
    "t1 = t.sort_values(['Participant_Timestamp'])\n",
    "fig = plt.figure(figsize=(10, 3))\n",
    "\n",
    "ax1 = fig.add_subplot(1, 2, 1)\n",
    "ax2 = fig.add_subplot(1, 2, 2)\n",
    "\n",
    "ax1.plot(t1['pdts'], t1['Trade_Price'])\n",
    "ax1.set_xlabel('Time of the Day')\n",
    "ax1.set_ylabel('Trade Price')\n",
    "ax1.tick_params(axis='x', labelrotation=45)\n",
    "\n",
    "ax2.plot(t1['pdts'], t1['Trade_Volume'])\n",
    "ax2.set_xlabel('Time of the Day')\n",
    "ax2.set_ylabel('Trade Volume')\n",
    "#ax2.set_yscale('log')\n",
    "ax2.tick_params(axis='x', labelrotation=45)\n",
    "\n",
    "plt.subplots_adjust(wspace = 0.3, hspace = 0.5)"
   ]
  },
  {
   "cell_type": "code",
   "execution_count": 3,
   "metadata": {},
   "outputs": [
    {
     "data": {
      "text/plain": [
       "Index(['Time', 'Exchange', 'Symbol', 'Bid_Price', 'Bid_Size', 'Offer_Price',\n",
       "       'Offer_Size', 'Quote_Condition', 'Sequence_Number',\n",
       "       'FINRA_BBO_Indicator', 'FINRA_ADF_MPID_Indicator', 'Source_Of_Quote',\n",
       "       'Best Bid Quote Condition', 'Best_Bid_Exchange', 'Best_Bid_Price',\n",
       "       'Best_Bid_Size', 'Best_Bid_FINRA_Market_Maker_ID',\n",
       "       'Best_Offer_Quote_Condition', 'Best_Offer_Exchange', 'Best_Offer_Price',\n",
       "       'Best_Offer_Size', 'Best_Offer_FINRA_Market_Maker_ID', 'LULD_Indicator',\n",
       "       'LULD_NBBO_Indicator', 'SIP_Generated_Message_Identifier',\n",
       "       'Participant_Timestamp', 'FINRA_ADF_Timestamp',\n",
       "       'Security_Status_Indicator', 'National_BBO_Ind',\n",
       "       'Quote_Cancel_Correction', 'Effective_Date'],\n",
       "      dtype='object')"
      ]
     },
     "execution_count": 3,
     "metadata": {},
     "output_type": "execute_result"
    }
   ],
   "source": [
    "q.columns"
   ]
  },
  {
   "cell_type": "code",
   "execution_count": 8,
   "metadata": {},
   "outputs": [
    {
     "name": "stdout",
     "output_type": "stream",
     "text": [
      "There are 473340 quotes records on Jan 6th.\n",
      "\n",
      "The summary statistics for trade price and values can be seen below:\n",
      "\n",
      "The minimum time is 04:00 and the max time is 19:59 EST.\n",
      "\n"
     ]
    },
    {
     "data": {
      "text/html": [
       "<div>\n",
       "<style scoped>\n",
       "    .dataframe tbody tr th:only-of-type {\n",
       "        vertical-align: middle;\n",
       "    }\n",
       "\n",
       "    .dataframe tbody tr th {\n",
       "        vertical-align: top;\n",
       "    }\n",
       "\n",
       "    .dataframe thead th {\n",
       "        text-align: right;\n",
       "    }\n",
       "</style>\n",
       "<table border=\"1\" class=\"dataframe\">\n",
       "  <thead>\n",
       "    <tr style=\"text-align: right;\">\n",
       "      <th></th>\n",
       "      <th>Bid_Price</th>\n",
       "      <th>Bid_Size</th>\n",
       "      <th>Offer_Price</th>\n",
       "      <th>Offer_Size</th>\n",
       "      <th>Best_Bid_Price</th>\n",
       "      <th>Best_Bid_Size</th>\n",
       "      <th>Best_Offer_Price</th>\n",
       "      <th>Best_Offer_Size</th>\n",
       "    </tr>\n",
       "  </thead>\n",
       "  <tbody>\n",
       "    <tr>\n",
       "      <th>count</th>\n",
       "      <td>473340.000000</td>\n",
       "      <td>473340.000000</td>\n",
       "      <td>473340.000000</td>\n",
       "      <td>473340.000000</td>\n",
       "      <td>473340.000000</td>\n",
       "      <td>473340.000000</td>\n",
       "      <td>473340.000000</td>\n",
       "      <td>473340.000000</td>\n",
       "    </tr>\n",
       "    <tr>\n",
       "      <th>mean</th>\n",
       "      <td>297.274051</td>\n",
       "      <td>2.766567</td>\n",
       "      <td>296.825995</td>\n",
       "      <td>2.883602</td>\n",
       "      <td>297.960107</td>\n",
       "      <td>3.055586</td>\n",
       "      <td>297.986993</td>\n",
       "      <td>3.419732</td>\n",
       "    </tr>\n",
       "    <tr>\n",
       "      <th>std</th>\n",
       "      <td>13.658325</td>\n",
       "      <td>6.592357</td>\n",
       "      <td>18.846965</td>\n",
       "      <td>7.292170</td>\n",
       "      <td>1.463209</td>\n",
       "      <td>4.592779</td>\n",
       "      <td>1.575978</td>\n",
       "      <td>9.353743</td>\n",
       "    </tr>\n",
       "    <tr>\n",
       "      <th>min</th>\n",
       "      <td>0.000000</td>\n",
       "      <td>0.000000</td>\n",
       "      <td>0.000000</td>\n",
       "      <td>0.000000</td>\n",
       "      <td>278.000000</td>\n",
       "      <td>1.000000</td>\n",
       "      <td>0.000000</td>\n",
       "      <td>0.000000</td>\n",
       "    </tr>\n",
       "    <tr>\n",
       "      <th>25%</th>\n",
       "      <td>296.900000</td>\n",
       "      <td>1.000000</td>\n",
       "      <td>296.980000</td>\n",
       "      <td>1.000000</td>\n",
       "      <td>296.950000</td>\n",
       "      <td>1.000000</td>\n",
       "      <td>296.980000</td>\n",
       "      <td>1.000000</td>\n",
       "    </tr>\n",
       "    <tr>\n",
       "      <th>50%</th>\n",
       "      <td>298.150000</td>\n",
       "      <td>2.000000</td>\n",
       "      <td>298.190000</td>\n",
       "      <td>2.000000</td>\n",
       "      <td>298.170000</td>\n",
       "      <td>2.000000</td>\n",
       "      <td>298.190000</td>\n",
       "      <td>2.000000</td>\n",
       "    </tr>\n",
       "    <tr>\n",
       "      <th>75%</th>\n",
       "      <td>299.200000</td>\n",
       "      <td>3.000000</td>\n",
       "      <td>299.240000</td>\n",
       "      <td>3.000000</td>\n",
       "      <td>299.210000</td>\n",
       "      <td>4.000000</td>\n",
       "      <td>299.230000</td>\n",
       "      <td>4.000000</td>\n",
       "    </tr>\n",
       "    <tr>\n",
       "      <th>max</th>\n",
       "      <td>299.950000</td>\n",
       "      <td>203.000000</td>\n",
       "      <td>307.870000</td>\n",
       "      <td>440.000000</td>\n",
       "      <td>299.950000</td>\n",
       "      <td>203.000000</td>\n",
       "      <td>299.960000</td>\n",
       "      <td>440.000000</td>\n",
       "    </tr>\n",
       "  </tbody>\n",
       "</table>\n",
       "</div>"
      ],
      "text/plain": [
       "           Bid_Price       Bid_Size    Offer_Price     Offer_Size  \\\n",
       "count  473340.000000  473340.000000  473340.000000  473340.000000   \n",
       "mean      297.274051       2.766567     296.825995       2.883602   \n",
       "std        13.658325       6.592357      18.846965       7.292170   \n",
       "min         0.000000       0.000000       0.000000       0.000000   \n",
       "25%       296.900000       1.000000     296.980000       1.000000   \n",
       "50%       298.150000       2.000000     298.190000       2.000000   \n",
       "75%       299.200000       3.000000     299.240000       3.000000   \n",
       "max       299.950000     203.000000     307.870000     440.000000   \n",
       "\n",
       "       Best_Bid_Price  Best_Bid_Size  Best_Offer_Price  Best_Offer_Size  \n",
       "count   473340.000000  473340.000000     473340.000000    473340.000000  \n",
       "mean       297.960107       3.055586        297.986993         3.419732  \n",
       "std          1.463209       4.592779          1.575978         9.353743  \n",
       "min        278.000000       1.000000          0.000000         0.000000  \n",
       "25%        296.950000       1.000000        296.980000         1.000000  \n",
       "50%        298.170000       2.000000        298.190000         2.000000  \n",
       "75%        299.210000       4.000000        299.230000         4.000000  \n",
       "max        299.950000     203.000000        299.960000       440.000000  "
      ]
     },
     "execution_count": 8,
     "metadata": {},
     "output_type": "execute_result"
    }
   ],
   "source": [
    "q = pd.read_csv('./query_quotes_AAPL_20200106_born202210121744.csv',)\n",
    "pd.set_option('display.max_columns', None)\n",
    "q['pdts'] = q['Participant_Timestamp'].apply(pdts)\n",
    "q['minute'] = pd.to_datetime(q['pdts']).dt.strftime('%H:%M')\n",
    "mintime = q['minute'].min()\n",
    "maxtime = q['minute'].max()\n",
    "\n",
    "print(f'There are {q.shape[0]} quotes records on Jan 6th.\\n')\n",
    "print(f'The summary statistics for trade price and values can be seen below:\\n')\n",
    "print(f'The minimum time is {mintime} and the max time is {maxtime} EST.\\n')\n",
    "\n",
    "q[['Bid_Price', 'Bid_Size', 'Offer_Price', 'Offer_Size', 'Best_Bid_Price', 'Best_Bid_Size', 'Best_Offer_Price', 'Best_Offer_Size']].describe()"
   ]
  },
  {
   "cell_type": "code",
   "execution_count": 91,
   "metadata": {},
   "outputs": [
    {
     "name": "stdout",
     "output_type": "stream",
     "text": [
      "Symbol (Nunique= 1 ):  ['AAPL']\n",
      "Quote_Condition (Nunique= 3 ):  ['R' 'Y' 'L']\n",
      "Exchange (Nunique= 13 ):  ['Z' 'N' 'P' 'X' 'Q' 'A' 'K' 'B' 'C' 'M' 'Y' 'V' 'J']\n",
      "Source_Of_Quote (Nunique= 1 ):  ['N']\n",
      "Best_Bid_Exchange (Nunique= 13 ):  ['Q' 'P' 'Z' 'N' 'Y' 'J' 'K' 'X' 'M' 'V' 'B' 'C' 'A']\n",
      "Best_Offer_Exchange (Nunique= 13 ):  ['V' 'Z' 'N' 'P' 'K' 'Q' 'Y' 'J' 'X' 'M' 'B' 'C' 'A' nan]\n",
      "National_BBO_Ind (Nunique= 1 ):  [2]\n"
     ]
    }
   ],
   "source": [
    "cols = ['Symbol', 'Quote_Condition', 'Exchange', 'Source_Of_Quote', 'Best_Bid_Exchange',  'Best_Offer_Exchange', 'National_BBO_Ind']\n",
    "for col in cols:\n",
    "    print(col, '(Nunique=',q[col].nunique() ,'): ',q[col].unique())"
   ]
  },
  {
   "cell_type": "code",
   "execution_count": 92,
   "metadata": {},
   "outputs": [
    {
     "name": "stdout",
     "output_type": "stream",
     "text": [
      "The distribution of quote conditions are as:\n",
      "\n"
     ]
    },
    {
     "data": {
      "text/plain": [
       "NBBO Regular, two-sided open quote    0.999894\n",
       "NBBO Regular – One Sided Quote        0.000072\n",
       "NBBO Closed Market Maker              0.000034\n",
       "Name: Quote_Condition_levels, dtype: float64"
      ]
     },
     "execution_count": 92,
     "metadata": {},
     "output_type": "execute_result"
    }
   ],
   "source": [
    "print('The distribution of quote conditions are as:\\n')\n",
    "q['Quote_Condition_levels'] = q['Quote_Condition'].replace({'R': 'NBBO Regular, two-sided open quote', 'Y': 'NBBO Regular – One Sided Quote', 'L': 'NBBO Closed Market Maker'})\n",
    "q['Quote_Condition_levels'].value_counts(normalize=True)"
   ]
  },
  {
   "cell_type": "code",
   "execution_count": 93,
   "metadata": {},
   "outputs": [
    {
     "data": {
      "image/png": "[encoded data removed]",
      "text/plain": [
       "<Figure size 1000x600 with 4 Axes>"
      ]
     },
     "metadata": {},
     "output_type": "display_data"
    }
   ],
   "source": [
    "q1 = q.sort_values(['pdts'])\n",
    "fig = plt.figure(figsize=(10, 6))\n",
    "\n",
    "ax1 = fig.add_subplot(2, 2, 1)\n",
    "ax2 = fig.add_subplot(2, 2, 2)\n",
    "ax3 = fig.add_subplot(2, 2, 3)\n",
    "ax4 = fig.add_subplot(2, 2, 4)\n",
    "\n",
    "ax1.plot(q1['pdts'], q1['Best_Bid_Price'])\n",
    "ax1.set_xlabel('Time')\n",
    "ax1.set_ylabel('Best Bid Price')\n",
    "ax1.tick_params(axis='x', labelrotation=45)\n",
    "\n",
    "ax2.plot(q1['pdts'], q1['Best_Bid_Size'])\n",
    "ax2.set_xlabel('Time')\n",
    "ax2.set_ylabel('Best Bid Size')\n",
    "ax2.tick_params(axis='x', labelrotation=45)\n",
    "\n",
    "ax3.plot(q1['pdts'], q1['Best_Offer_Price'])\n",
    "ax3.set_xlabel('Time')\n",
    "ax3.set_ylabel('Best Offer Price')\n",
    "ax3.tick_params(axis='x', labelrotation=45)\n",
    "\n",
    "ax4.plot(q1['pdts'], q1['Best_Offer_Size'])\n",
    "ax4.set_xlabel('Time')\n",
    "ax4.set_ylabel('Best Offer Size')\n",
    "ax4.tick_params(axis='x', labelrotation=45)\n",
    "\n",
    "plt.subplots_adjust(wspace = 0.3, hspace = 0.5)"
   ]
  },
  {
   "cell_type": "code",
   "execution_count": 112,
   "metadata": {},
   "outputs": [
    {
     "name": "stdout",
     "output_type": "stream",
     "text": [
      "The shape of final quote dataset is  (473288, 34)\n",
      "The shape of final trade dataset is  (242859, 20)\n"
     ]
    }
   ],
   "source": [
    "## the final dataset remove outliers in the price and volume data, quotes and trades from exchange Q\n",
    "## quote and trades didn't belong to regular type\n",
    "q1 = q.loc[ (q['Best_Offer_Price'] > 200) & (q['Best_Bid_Price'] > 250) &(q['Quote_Condition'] == 'R') ]\n",
    "t1 = t.loc[ (t['Trade_Price'] < 305) & (t['Trade_Volume'] < 5e5) &(t['Trade_Correction_Indicator'] == 0) ]\n",
    "print('The shape of final quote dataset is ', q1.shape)\n",
    "print('The shape of final trade dataset is ', t1.shape)"
   ]
  },
  {
   "cell_type": "markdown",
   "metadata": {},
   "source": [
    "## Part 2. Data Clean Up\n",
    "\n",
    "To clean up the dataset, we first worked on regrouping those trades and quote updates that stem from the same marketable order execution. We used the participant timestamp to assign a unique marketable order execution (MOX) identifier to each batch of trades and quotes triggered in execution of a single marketable order.\n",
    " \n",
    "We can use the participant timestamp to derive the MOX identifier because all trades and quote updates that are triggered in the execution of the same marketable order receive the same participant (but not SIP) timestamp in high resolution (microseconds to nanoseconds, respectively one millionth and one billionth of a second) per exchange-stock-day.\n",
    "\n",
    "\n",
    "The raw_tq2mox function trims the first/last 15 minutes of normal trading hours and added MOX identifier and LAQ (Last active quote) to the original dataset."
   ]
  },
  {
   "cell_type": "code",
   "execution_count": 10,
   "metadata": {},
   "outputs": [],
   "source": [
    "def ts_to_secs(ptimestamp):\n",
    "    str_zpad = str(ptimestamp).zfill(15)\n",
    "    return int(str_zpad[:2])*3600 + int(str_zpad[2:4])*60 + int(str_zpad[4:6]) + 1e-9 *float(str_zpad[6:])\n",
    "\n",
    "\n",
    "def raw_tq2mox(t, q):\n",
    "    \"\"\"\n",
    "    Modifies raw quote and trade data. Trims the first and last 15 minutes \n",
    "    of normal trading hours. Adds MOX identifier and LAQ (Last active quote).\n",
    "\n",
    "    Parameters:\n",
    "    -------------\n",
    "    t : pd.DataFrame\n",
    "        raw TAQ trades dataframe from csv\n",
    "    q : pd.DataFrame\n",
    "        raw TAQ quotes dataframe from csv\n",
    "        \n",
    "    Returns:\n",
    "    ---------\n",
    "\n",
    "    t_v : pd.DataFrame\n",
    "        cleaned trades with MOX id, LAQ\n",
    "    q_v : pd.DataFrame\n",
    "        cleaned quotes with MOX id\n",
    "    \"\"\"\n",
    "    t.sort_values(by=['Participant_Timestamp','Sequence_Number'], axis=0, inplace=True)\n",
    "    q.sort_values(by=['Participant_Timestamp','Sequence_Number'],axis=0, inplace=True )\n",
    "    t_v = t[np.logical_and(t['Participant_Timestamp'] >= 94500000000000, t['Participant_Timestamp'] <= 154500000000000) ] # remove closing/opening auction dissemination ( remove first and last 15 min), formally->3:50pm NYSE/NASDAQ (closing cross)\n",
    "    q_v = q[np.logical_and(q['Participant_Timestamp'] >= 94500000000000, q['Participant_Timestamp'] <= 154500000000000) ] # \n",
    "    # t_v = t[np.logical_and(t['Participant_Timestamp'] >= 93000000000000,t['Participant_Timestamp'] <= 100000000000000) ] # smaller size, testing opening cross' influence\n",
    "    # q_v = q[np.logical_and(q['Participant_Timestamp'] >= 93000000000000,q['Participant_Timestamp'] <= 100000000000000) ]\n",
    "    t_v['pt_secs'] = t_v['Participant_Timestamp'].apply(ts_to_secs)\n",
    "    q_v['pt_secs'] = q_v['Participant_Timestamp'].apply(ts_to_secs)\n",
    "\n",
    "    ### Assigning MOX to trades and quotes\n",
    "    mox = 1 # MOX of zero saved for exchange updated quotes versus MQUs\n",
    "    j = 0 \n",
    "    N = len(t_v)\n",
    "    t_v['MOX'] = np.full(N, np.nan, dtype=int)\n",
    "    while j < N:\n",
    "        cur_pts = t_v['Participant_Timestamp'].iloc[j]\n",
    "        while j < N and cur_pts == t_v['Participant_Timestamp'].iloc[j]:\n",
    "            t_v['MOX'].iloc[j] = mox\n",
    "            j +=1\n",
    "        mox += 1\n",
    "        \n",
    "    # MOX of zero saved for exchange updated quotes versus MQUs\n",
    "    j = 0 \n",
    "    N = len(q_v)\n",
    "    q_v['MOX'] = np.full(N, np.nan,dtype=int)\n",
    "    while j < N:\n",
    "        cur_pts = q_v['pt_secs'].iloc[j]\n",
    "        df_trade_moxes = t_v[t_v['pt_secs'] == cur_pts]\n",
    "        # if cur_pts == 34518.935274496:\n",
    "        #     pdb.set_trace()\n",
    "        if len(df_trade_moxes) == 0 or len(df_trade_moxes) == 1: # MQU with only 1 trade/quote update\n",
    "            q_v['MOX'].iloc[j] = 0\n",
    "        else:\n",
    "            #pdb.set_trace()\n",
    "            q_v['MOX'].iloc[j] = df_trade_moxes['MOX'].iloc[0]\n",
    "        j +=1\n",
    "        \n",
    "    t_v['LAQ_bid'] = np.zeros(len(t_v))\n",
    "    t_v['LAQ_offer'] = np.zeros(len(t_v))\n",
    "    t_v['LAQ_pt'] = np.zeros(len(t_v))\n",
    "    t_v['LAQ_bid_size'] = np.zeros(len(t_v))\n",
    "    t_v['LAQ_offer_size'] = np.zeros(len(t_v))\n",
    "    \n",
    "    ## mask for last MQU or natural quotes only\n",
    "    mask_natural = (q_v['MOX'] == 0).to_numpy()\n",
    "    mask_lastmqu = np.concatenate(([True], mask_natural[1:]))\n",
    "    mask_valid_LAQ = np.logical_or(mask_natural, mask_lastmqu)\n",
    "    q_valid_LAQ = q_v.iloc[mask_valid_LAQ,:]\n",
    "    for i in t_v.index.to_numpy():\n",
    "        cur_pt = t_v['pt_secs'].loc[i]\n",
    "\n",
    "        try:\n",
    "            vquotes = q_valid_LAQ[np.logical_and(q_valid_LAQ['pt_secs'] >= cur_pt - 0.1, q_valid_LAQ['pt_secs'] <= cur_pt )].iloc[-1]\n",
    "            t_v['LAQ_bid'].loc[i] = vquotes['Best_Bid_Price'] \n",
    "            t_v['LAQ_offer'].loc[i] = vquotes['Best_Offer_Price']  \n",
    "            t_v['LAQ_bid_size'].loc[i] = vquotes['Best_Bid_Size'] \n",
    "            t_v['LAQ_offer_size'].loc[i] = vquotes['Best_Offer_Size']  \n",
    "            t_v['LAQ_pt'].loc[i] = vquotes['pt_secs'] \n",
    "        except:\n",
    "            t_v['LAQ_bid'].loc[i] = np.nan\n",
    "            t_v['LAQ_offer'].loc[i] = np.nan \n",
    "            t_v['LAQ_pt'].loc[i] = np.nan\n",
    "            t_v['LAQ_bid_size'].loc[i] =np.nan\n",
    "            t_v['LAQ_offer_size'].loc[i] = np.nan\n",
    "    return t_v, q_v"
   ]
  },
  {
   "cell_type": "code",
   "execution_count": 11,
   "metadata": {},
   "outputs": [],
   "source": [
    "t_v0, q_v0 = raw_tq2mox(t, q) # Slow, naive mox fitting - need to make this code faster. Took 15 minutes on laptop."
   ]
  },
  {
   "cell_type": "markdown",
   "metadata": {},
   "source": [
    "## Part III. Feature Generation"
   ]
  },
  {
   "cell_type": "code",
   "execution_count": 102,
   "metadata": {},
   "outputs": [],
   "source": [
    "q_v = q_v0.drop(columns = ['FINRA_BBO_Indicator', 'FINRA_ADF_MPID_Indicator', 'Source_Of_Quote', 'Best Bid Quote Condition',\n",
    "'Best_Bid_Exchange', 'Best_Bid_FINRA_Market_Maker_ID', 'Best_Offer_Quote_Condition', 'Best_Offer_Exchange', 'Best_Offer_FINRA_Market_Maker_ID',\n",
    "'LULD_Indicator', 'LULD_NBBO_Indicator', 'SIP_Generated_Message_Identifier', 'FINRA_ADF_Timestamp', 'National_BBO_Ind', 'Security_Status_Indicator', 'Quote_Cancel_Correction', 'Effective_Date'])\n",
    "t_v = t_v0.drop(columns = ['Sale_Condition', 'Trade_Stop_Stock_Indicator', 'Trade_Id',\n",
    "       'Source_of_Trade', 'Trade_Reporting_Facility', 'Trade_Reporting_Facility_TRF_Timestamp',\n",
    "       'Trade_Through_Exempt_Indicator', 'Date', 'YearMonth' ] )\n",
    "\n",
    "## delta t\n",
    "num_events=30"
   ]
  },
  {
   "cell_type": "code",
   "execution_count": 103,
   "metadata": {},
   "outputs": [
    {
     "name": "stdout",
     "output_type": "stream",
     "text": [
      "The quote dataset:  Index(['Time', 'Exchange', 'Symbol', 'Bid_Price', 'Bid_Size', 'Offer_Price',\n",
      "       'Offer_Size', 'Quote_Condition', 'Sequence_Number', 'Best_Bid_Price',\n",
      "       'Best_Bid_Size', 'Best_Offer_Price', 'Best_Offer_Size',\n",
      "       'Participant_Timestamp', 'pt_secs', 'MOX'],\n",
      "      dtype='object')\n",
      "The trade dataset:  Index(['Time', 'Exchange', 'Symbol', 'Trade_Volume', 'Trade_Price',\n",
      "       'Trade_Correction_Indicator', 'Sequence_Number',\n",
      "       'Participant_Timestamp', 'pt_secs', 'MOX', 'LAQ_bid', 'LAQ_offer',\n",
      "       'LAQ_pt', 'LAQ_bid_size', 'LAQ_offer_size'],\n",
      "      dtype='object')\n"
     ]
    }
   ],
   "source": [
    "print(\"The quote dataset: \", q_v.columns)\n",
    "print(\"The trade dataset: \", t_v.columns)"
   ]
  },
  {
   "cell_type": "code",
   "execution_count": 75,
   "metadata": {},
   "outputs": [],
   "source": [
    "day = datetime(2020,1,6)\n",
    "pdts = fn.partial(ts_to_pdts, dte=day)\n",
    "q_v['pdts'] = q_v['Participant_Timestamp'].apply(pdts)\n",
    "q_v.set_index('pdts', inplace=True)\n",
    "q_v.sort_index(inplace=True)\n",
    "\n",
    "## time sensitive set\n",
    "q_v['dPbid'] = q_v['Best_Bid_Price'].diff()\n",
    "q_v['dPask'] = q_v['Best_Offer_Price'].diff()\n",
    "q_v['dVbid'] = q_v['Best_Bid_Size'].diff()\n",
    "q_v['dVask'] = q_v['Best_Offer_Size'].diff()\n",
    "q_v[['ddPbid','ddPask','ddVbid','ddVask']] = q_v[['dPbid','dPask','dVbid','dVask']].rolling('1s').sum()"
   ]
  },
  {
   "cell_type": "code",
   "execution_count": 76,
   "metadata": {},
   "outputs": [],
   "source": [
    "### find out all trade prices and volumes\n",
    "## all quote records\n",
    "q_v_temp = pd.DataFrame({'id': q_v['Sequence_Number'].to_numpy(),\n",
    "                        'tvolume': np.zeros(len(q_v)),\n",
    "                        'tprice': np.zeros(len(q_v)), \n",
    "                            'Participant_Timestamp': q_v['Participant_Timestamp'].to_numpy(),\n",
    "                            'is_trade': np.zeros(len(q_v))}\n",
    "                    )\n",
    "\n",
    "## all quote records\n",
    "t_v_temp = pd.DataFrame({'id': t_v['Sequence_Number'].to_numpy(),\n",
    "                        'tvolume': t_v['Trade_Volume'].to_numpy(),\n",
    "                        'tprice': t_v['Trade_Price'].to_numpy(), \n",
    "                            'Participant_Timestamp': t_v['Participant_Timestamp'].to_numpy(),\n",
    "                            'is_trade': np.ones(len(t_v))}\n",
    "\n",
    "                    )\n",
    "df_trade_features = pd.concat([q_v_temp, t_v_temp], axis = 0)\n",
    "\n",
    "df_trade_features['pdts'] = df_trade_features['Participant_Timestamp'].astype(np.int64).apply(pdts)\n",
    "df_trade_features.set_index('pdts', inplace=True)\n",
    "df_trade_features.sort_index(inplace=True)\n",
    "\n",
    "df_trade_features[['avg_trade_price_10ms','avg_trade_volume_10ms']] = df_trade_features[['tprice','tvolume']].rolling('10ms').mean()\n",
    "df_trade_features[['avg_trade_price_100ms','avg_trade_volume_100ms']] = df_trade_features[['tprice','tvolume']].rolling('100ms').mean()\n",
    "df_trade_features[['avg_trade_price_1s','avg_trade_volume_1s']] = df_trade_features[['tprice','tvolume']].rolling('1s').mean()\n",
    "df_trade_features[['avg_trade_price_10s','avg_trade_volume_10s']] = df_trade_features[['tprice','tvolume']].rolling('10s').mean()"
   ]
  },
  {
   "cell_type": "code",
   "execution_count": 104,
   "metadata": {},
   "outputs": [],
   "source": [
    "## trade related features\n",
    "q_v_update = df_trade_features.loc[df_trade_features['is_trade'] == 0]\n",
    "q_v_update.reset_index(inplace=True)\n",
    "q_v_update.set_index('id',inplace=True)\n",
    "q_v_update.sort_index(inplace=True)\n",
    "\n",
    "q_v.reset_index(inplace = True)\n",
    "q_v.set_index('Sequence_Number', inplace=True)\n",
    "q_v.sort_index(inplace=True)\n",
    "\n",
    "q_v[['avg_trade_price_1s','avg_trade_volume_1s', 'avg_trade_price_10s','avg_trade_volume_10s' ]] = np.zeros((len(q_v), 4))\n",
    "q_v.loc[q_v_update.index.to_numpy(),\n",
    "    ['avg_trade_price_10ms','avg_trade_volume_10ms',\n",
    "    'avg_trade_price_100ms','avg_trade_volume_100ms',\n",
    "    'avg_trade_price_1s','avg_trade_volume_1s',\n",
    "    'avg_trade_price_10s','avg_trade_volume_10s' ]]  = q_v_update[['avg_trade_price_100ms','avg_trade_volume_100ms', 'avg_trade_price_10ms','avg_trade_volume_10ms', \n",
    "                                                                    'avg_trade_price_1s','avg_trade_volume_1s', 'avg_trade_price_10s','avg_trade_volume_10s']].to_numpy()\n",
    "\n",
    "q_v['Sequence_Number'] = q_v.index.to_numpy()\n",
    "q_v.sort_values('pt_secs',inplace=True)\n",
    "\n",
    "mask_natural = (q_v['MOX'] == 0).to_numpy()\n",
    "mask_lastmqu = np.concatenate(([True], mask_natural[1:]))\n",
    "mask_valid_LAQ = np.logical_or(mask_natural, mask_lastmqu)\n",
    "\n",
    "q_valid_LAQ = q_v.iloc[mask_valid_LAQ,:]\n",
    "q_valid_LAQ['Best_Mid_Price'] = (q_valid_LAQ['Best_Bid_Price'] + q_valid_LAQ['Best_Offer_Price'])/2.0"
   ]
  },
  {
   "cell_type": "code",
   "execution_count": 106,
   "metadata": {},
   "outputs": [],
   "source": [
    "### outcomes\n",
    "mids = q_valid_LAQ['Best_Mid_Price'].to_numpy()\n",
    "bids = q_valid_LAQ['Best_Bid_Price'].to_numpy()\n",
    "asks = q_valid_LAQ['Best_Offer_Price'].to_numpy()\n",
    "\n",
    "y_mid = []\n",
    "y_spread = []\n",
    "for i in range(num_events, len(mids)):\n",
    "    if mids[i] > mids[i - num_events]:\n",
    "        y_mid.append('Up')\n",
    "    elif mids[i] == mids[i - num_events]:\n",
    "        y_mid.append('Stationary')\n",
    "    else:\n",
    "        y_mid.append('Down')\n",
    "\n",
    "    if bids[i] > asks[i - num_events]:\n",
    "        y_spread.append('Up')\n",
    "    elif bids[i] == asks[i - num_events]:\n",
    "        y_spread.append('Stationary')\n",
    "    else:\n",
    "        y_spread.append('Down')"
   ]
  },
  {
   "cell_type": "code",
   "execution_count": 110,
   "metadata": {},
   "outputs": [
    {
     "name": "stdout",
     "output_type": "stream",
     "text": [
      "Counter({'Up': 177806, 'Down': 164885, 'Stationary': 45223})\n",
      "Counter({'Down': 323316, 'Stationary': 37880, 'Up': 26718})\n"
     ]
    }
   ],
   "source": [
    "from collections import Counter\n",
    "print(Counter(y_mid))\n",
    "print(Counter(y_spread))"
   ]
  },
  {
   "cell_type": "code",
   "execution_count": 67,
   "metadata": {},
   "outputs": [],
   "source": [
    "## Features - first pass\n",
    "## price and volume\n",
    "ask_price = asks[:-num_events]\n",
    "bid_price = bids[:-num_events]\n",
    "ask_volume = q_valid_LAQ['Best_Offer_Size'].to_numpy()[:-num_events]\n",
    "bid_volume = q_valid_LAQ['Best_Bid_Size'].to_numpy()[:-num_events]\n",
    "\n",
    "# spreads, first level only\n",
    "mid_price = mids[:-num_events]\n",
    "spread =ask_price - bid_price\n",
    "\n",
    "# derivatives, averaged over last t seconds\n",
    "ddPask_dt = np.nan_to_num(q_valid_LAQ['ddPask'][:-num_events].to_numpy())\n",
    "ddPbid_dt = np.nan_to_num(q_valid_LAQ['ddPbid'][:-num_events].to_numpy())\n",
    "ddVask_dt = np.nan_to_num(q_valid_LAQ['ddVask'][:-num_events].to_numpy())\n",
    "ddVbid_dt = np.nan_to_num(q_valid_LAQ['ddVbid'][:-num_events].to_numpy())\n",
    "\n",
    "# trade-based features\n",
    "avg_trade_price_10ms   =  q_valid_LAQ['avg_trade_price_10ms'][:-num_events].to_numpy()\n",
    "avg_trade_price_100ms  =  q_valid_LAQ['avg_trade_price_100ms'][:-num_events].to_numpy()\n",
    "avg_trade_volume_10ms  =  q_valid_LAQ['avg_trade_volume_10ms'][:-num_events].to_numpy()\n",
    "avg_trade_volume_100ms =  q_valid_LAQ['avg_trade_volume_100ms'][:-num_events].to_numpy()\n",
    "\n",
    "avg_trade_price_1s   =  q_valid_LAQ['avg_trade_price_1s'][:-num_events].to_numpy()\n",
    "avg_trade_price_10s  =  q_valid_LAQ['avg_trade_price_10s'][:-num_events].to_numpy()\n",
    "avg_trade_volume_1s  =  q_valid_LAQ['avg_trade_volume_1s'][:-num_events].to_numpy()\n",
    "avg_trade_volume_10s =  q_valid_LAQ['avg_trade_volume_10s'][:-num_events].to_numpy()\n",
    "\n",
    "time = q_valid_LAQ['pt_secs'].to_numpy()[:-num_events]\n",
    "\n",
    "dict_data = {\n",
    "        'time'      : time,\n",
    "        'y_mid'     : y_mid,\n",
    "        'y_spread'  : y_spread,\n",
    "        \n",
    "        'ask_price' : ask_price,\n",
    "        'bid_price' : bid_price,\n",
    "        'ask_volume': ask_volume,\n",
    "        'bid_volume': bid_volume,\n",
    "\n",
    "        'mid_price' : (ask_price + bid_price) / 2.0,\n",
    "        'spread'    : ask_price - bid_price,\n",
    "\n",
    "        'dPask_dt'  : ddPask_dt,\n",
    "        'dPbid_dt'  : ddPbid_dt,\n",
    "        'dVask_dt'  : ddVask_dt,\n",
    "        'dVbid_dt'  : ddVbid_dt,\n",
    "        \n",
    "        'avg_trade_price_10ms'   : avg_trade_price_10ms,\n",
    "        'avg_trade_price_100ms'  :  avg_trade_price_100ms,\n",
    "        'avg_trade_price_1s'   : avg_trade_price_1s,\n",
    "        'avg_trade_price_10s'  :  avg_trade_price_10s,\n",
    "\n",
    "        'avg_trade_volume_10ms'  :  avg_trade_volume_10ms,\n",
    "        'avg_trade_volume_100ms' :  avg_trade_volume_100ms,\n",
    "        'avg_trade_volume_1s'  :  avg_trade_volume_1s,\n",
    "        'avg_trade_volume_10s' :  avg_trade_volume_10s,\n",
    "        }\n",
    "\n",
    "df_clean = pd.DataFrame(data=dict_data)\n"
   ]
  },
  {
   "cell_type": "markdown",
   "metadata": {},
   "source": [
    "## Part IV. Train SVM Model"
   ]
  },
  {
   "cell_type": "code",
   "execution_count": 49,
   "metadata": {},
   "outputs": [
    {
     "name": "stdout",
     "output_type": "stream",
     "text": [
      "[LibSVM]"
     ]
    },
    {
     "data": {
      "text/html": [
       "<style>#sk-container-id-5 {color: black;background-color: white;}#sk-container-id-5 pre{padding: 0;}#sk-container-id-5 div.sk-toggleable {background-color: white;}#sk-container-id-5 label.sk-toggleable__label {cursor: pointer;display: block;width: 100%;margin-bottom: 0;padding: 0.3em;box-sizing: border-box;text-align: center;}#sk-container-id-5 label.sk-toggleable__label-arrow:before {content: \"▸\";float: left;margin-right: 0.25em;color: #696969;}#sk-container-id-5 label.sk-toggleable__label-arrow:hover:before {color: black;}#sk-container-id-5 div.sk-estimator:hover label.sk-toggleable__label-arrow:before {color: black;}#sk-container-id-5 div.sk-toggleable__content {max-height: 0;max-width: 0;overflow: hidden;text-align: left;background-color: #f0f8ff;}#sk-container-id-5 div.sk-toggleable__content pre {margin: 0.2em;color: black;border-radius: 0.25em;background-color: #f0f8ff;}#sk-container-id-5 input.sk-toggleable__control:checked~div.sk-toggleable__content {max-height: 200px;max-width: 100%;overflow: auto;}#sk-container-id-5 input.sk-toggleable__control:checked~label.sk-toggleable__label-arrow:before {content: \"▾\";}#sk-container-id-5 div.sk-estimator input.sk-toggleable__control:checked~label.sk-toggleable__label {background-color: #d4ebff;}#sk-container-id-5 div.sk-label input.sk-toggleable__control:checked~label.sk-toggleable__label {background-color: #d4ebff;}#sk-container-id-5 input.sk-hidden--visually {border: 0;clip: rect(1px 1px 1px 1px);clip: rect(1px, 1px, 1px, 1px);height: 1px;margin: -1px;overflow: hidden;padding: 0;position: absolute;width: 1px;}#sk-container-id-5 div.sk-estimator {font-family: monospace;background-color: #f0f8ff;border: 1px dotted black;border-radius: 0.25em;box-sizing: border-box;margin-bottom: 0.5em;}#sk-container-id-5 div.sk-estimator:hover {background-color: #d4ebff;}#sk-container-id-5 div.sk-parallel-item::after {content: \"\";width: 100%;border-bottom: 1px solid gray;flex-grow: 1;}#sk-container-id-5 div.sk-label:hover label.sk-toggleable__label {background-color: #d4ebff;}#sk-container-id-5 div.sk-serial::before {content: \"\";position: absolute;border-left: 1px solid gray;box-sizing: border-box;top: 0;bottom: 0;left: 50%;z-index: 0;}#sk-container-id-5 div.sk-serial {display: flex;flex-direction: column;align-items: center;background-color: white;padding-right: 0.2em;padding-left: 0.2em;position: relative;}#sk-container-id-5 div.sk-item {position: relative;z-index: 1;}#sk-container-id-5 div.sk-parallel {display: flex;align-items: stretch;justify-content: center;background-color: white;position: relative;}#sk-container-id-5 div.sk-item::before, #sk-container-id-5 div.sk-parallel-item::before {content: \"\";position: absolute;border-left: 1px solid gray;box-sizing: border-box;top: 0;bottom: 0;left: 50%;z-index: -1;}#sk-container-id-5 div.sk-parallel-item {display: flex;flex-direction: column;z-index: 1;position: relative;background-color: white;}#sk-container-id-5 div.sk-parallel-item:first-child::after {align-self: flex-end;width: 50%;}#sk-container-id-5 div.sk-parallel-item:last-child::after {align-self: flex-start;width: 50%;}#sk-container-id-5 div.sk-parallel-item:only-child::after {width: 0;}#sk-container-id-5 div.sk-dashed-wrapped {border: 1px dashed gray;margin: 0 0.4em 0.5em 0.4em;box-sizing: border-box;padding-bottom: 0.4em;background-color: white;}#sk-container-id-5 div.sk-label label {font-family: monospace;font-weight: bold;display: inline-block;line-height: 1.2em;}#sk-container-id-5 div.sk-label-container {text-align: center;}#sk-container-id-5 div.sk-container {/* jupyter's `normalize.less` sets `[hidden] { display: none; }` but bootstrap.min.css set `[hidden] { display: none !important; }` so we also need the `!important` here to be able to override the default hidden behavior on the sphinx rendered scikit-learn.org. See: https://github.com/scikit-learn/scikit-learn/issues/21755 */display: inline-block !important;position: relative;}#sk-container-id-5 div.sk-text-repr-fallback {display: none;}</style><div id=\"sk-container-id-5\" class=\"sk-top-container\"><div class=\"sk-text-repr-fallback\"><pre>Pipeline(steps=[(&#x27;scaler&#x27;, StandardScaler()),\n",
       "                (&#x27;svm_clf&#x27;,\n",
       "                 SVC(C=0.25, coef0=1.0, degree=2, gamma=1.0, kernel=&#x27;poly&#x27;,\n",
       "                     verbose=True))])</pre><b>In a Jupyter environment, please rerun this cell to show the HTML representation or trust the notebook. <br />On GitHub, the HTML representation is unable to render, please try loading this page with nbviewer.org.</b></div><div class=\"sk-container\" hidden><div class=\"sk-item sk-dashed-wrapped\"><div class=\"sk-label-container\"><div class=\"sk-label sk-toggleable\"><input class=\"sk-toggleable__control sk-hidden--visually\" id=\"sk-estimator-id-13\" type=\"checkbox\" ><label for=\"sk-estimator-id-13\" class=\"sk-toggleable__label sk-toggleable__label-arrow\">Pipeline</label><div class=\"sk-toggleable__content\"><pre>Pipeline(steps=[(&#x27;scaler&#x27;, StandardScaler()),\n",
       "                (&#x27;svm_clf&#x27;,\n",
       "                 SVC(C=0.25, coef0=1.0, degree=2, gamma=1.0, kernel=&#x27;poly&#x27;,\n",
       "                     verbose=True))])</pre></div></div></div><div class=\"sk-serial\"><div class=\"sk-item\"><div class=\"sk-estimator sk-toggleable\"><input class=\"sk-toggleable__control sk-hidden--visually\" id=\"sk-estimator-id-14\" type=\"checkbox\" ><label for=\"sk-estimator-id-14\" class=\"sk-toggleable__label sk-toggleable__label-arrow\">StandardScaler</label><div class=\"sk-toggleable__content\"><pre>StandardScaler()</pre></div></div></div><div class=\"sk-item\"><div class=\"sk-estimator sk-toggleable\"><input class=\"sk-toggleable__control sk-hidden--visually\" id=\"sk-estimator-id-15\" type=\"checkbox\" ><label for=\"sk-estimator-id-15\" class=\"sk-toggleable__label sk-toggleable__label-arrow\">SVC</label><div class=\"sk-toggleable__content\"><pre>SVC(C=0.25, coef0=1.0, degree=2, gamma=1.0, kernel=&#x27;poly&#x27;, verbose=True)</pre></div></div></div></div></div></div></div>"
      ],
      "text/plain": [
       "Pipeline(steps=[('scaler', StandardScaler()),\n",
       "                ('svm_clf',\n",
       "                 SVC(C=0.25, coef0=1.0, degree=2, gamma=1.0, kernel='poly',\n",
       "                     verbose=True))])"
      ]
     },
     "execution_count": 49,
     "metadata": {},
     "output_type": "execute_result"
    }
   ],
   "source": [
    "#### use predict set {-1, 1}\n",
    "#df_clean = pd.read_feather('clean_features_221105_trades_ddt.f')\n",
    "split  = StratifiedShuffleSplit(n_splits=1, test_size=0.2, random_state=3407)\n",
    "n = 10000\n",
    "ind_select =  np.random.choice(np.arange(len(df_clean)),size=n)\n",
    "df_select = df_clean.iloc[ind_select,:]\n",
    "for train_index, test_index in split.split(df_select, df_select['spreadup']):\n",
    "    train_set = df_clean[:n].loc[train_index]\n",
    "    test_set = df_clean[:n].loc[test_index]\n",
    "\n",
    "y_train = np.where(np.array(train_set['spreadup']), -1.0, 1.0)\n",
    "\n",
    "svm = Pipeline([\n",
    "    (\"scaler\", StandardScaler()),\n",
    "    (\"svm_clf\", SVC(kernel=\"poly\", degree=2, C=0.25, gamma=1.0, coef0=1.0, verbose=True)) # adjusting gamma for increased smoothness - trying to avoid trivial prediction\n",
    "])\n",
    "svm.fit(train_set[['ask_price', 'bid_price', 'ask_volume', 'bid_volume', \n",
    "                   'mid_price', 'spread', \n",
    "                   'dPask_dt', 'dPbid_dt', 'dVbid_dt', 'dVask_dt',\n",
    "                   'avg_trade_price_10ms','avg_trade_volume_10ms',\n",
    "                   'avg_trade_price_100ms','avg_trade_volume_100ms',\n",
    "                   'avg_trade_price_1s','avg_trade_volume_1s',\n",
    "                   'avg_trade_price_10s','avg_trade_volume_10s' \n",
    "                  ]], \n",
    "        y_train\n",
    "        )"
   ]
  },
  {
   "cell_type": "code",
   "execution_count": 50,
   "metadata": {},
   "outputs": [
    {
     "name": "stdout",
     "output_type": "stream",
     "text": [
      "[[  36  779]\n",
      " [  24 1161]]\n",
      "              precision    recall  f1-score   support\n",
      "\n",
      "        -1.0       0.60      0.04      0.08       815\n",
      "         1.0       0.60      0.98      0.74      1185\n",
      "\n",
      "    accuracy                           0.60      2000\n",
      "   macro avg       0.60      0.51      0.41      2000\n",
      "weighted avg       0.60      0.60      0.47      2000\n",
      "\n"
     ]
    }
   ],
   "source": [
    "svm_predict = svm.predict(test_set[[\n",
    "                   'ask_price', 'bid_price', 'ask_volume', 'bid_volume', \n",
    "                   'mid_price', 'spread', \n",
    "                   'dPask_dt', 'dPbid_dt', 'dVbid_dt', 'dVask_dt',\n",
    "                   'avg_trade_price_10ms','avg_trade_volume_10ms',\n",
    "                   'avg_trade_price_100ms','avg_trade_volume_100ms',\n",
    "                   'avg_trade_price_1s','avg_trade_volume_1s',\n",
    "                   'avg_trade_price_10s','avg_trade_volume_10s' \n",
    "                  ]])\n",
    "y_test = np.where(np.array(test_set['spreadup']), -1.0, 1.0)\n",
    "print(confusion_matrix(y_test, svm_predict))\n",
    "print(classification_report(y_test, svm_predict))"
   ]
  },
  {
   "cell_type": "code",
   "execution_count": 51,
   "metadata": {},
   "outputs": [
    {
     "data": {
      "text/plain": [
       "False    0.578625\n",
       "True     0.421375\n",
       "Name: spreadup, dtype: float64"
      ]
     },
     "execution_count": 51,
     "metadata": {},
     "output_type": "execute_result"
    }
   ],
   "source": [
    "train_set['spreadup'].value_counts()/len(y_train)"
   ]
  }
 ],
 "metadata": {
  "kernelspec": {
   "display_name": "Python 3.10.8 64-bit",
   "language": "python",
   "name": "python3"
  },
  "language_info": {
   "codemirror_mode": {
    "name": "ipython",
    "version": 3
   },
   "file_extension": ".py",
   "mimetype": "text/x-python",
   "name": "python",
   "nbconvert_exporter": "python",
   "pygments_lexer": "ipython3",
   "version": "3.10.8"
  },
  "orig_nbformat": 4,
  "vscode": {
   "interpreter": {
    "hash": "b0fa6594d8f4cbf19f97940f81e996739fb7646882a419484c72d19e05852a7e"
   }
  }
 },
 "nbformat": 4,
 "nbformat_minor": 2
}
