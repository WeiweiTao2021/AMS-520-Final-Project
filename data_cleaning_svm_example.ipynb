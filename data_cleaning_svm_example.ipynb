{
 "cells": [
  {
   "cell_type": "code",
   "execution_count": 1,
   "metadata": {},
   "outputs": [],
   "source": [
    "import functools as fn\n",
    "import datetime\n",
    "import math\n",
    "\n",
    "import pandas as pd\n",
    "import numpy as np\n",
    "import scipy.stats as scs\n",
    "\n",
    "# from sklearnex import patch_sklearn ## Must run patch before importing other sklearn functions!!!\n",
    "# patch_sklearn()\n",
    "from sklearn.model_selection import train_test_split\n",
    "from sklearn.preprocessing import StandardScaler\n",
    "from sklearn.base import BaseEstimator, TransformerMixin\n",
    "from sklearn.pipeline import Pipeline\n",
    "from sklearn.svm import SVC\n",
    "from sklearn.model_selection import StratifiedShuffleSplit\n",
    "from sklearn.metrics import classification_report, confusion_matrix\n",
    "\n",
    "from matplotlib import pyplot as plt"
   ]
  },
  {
   "cell_type": "code",
   "execution_count": 2,
   "metadata": {},
   "outputs": [
    {
     "name": "stderr",
     "output_type": "stream",
     "text": [
      "c:\\Users\\E\\Anaconda3\\lib\\site-packages\\IPython\\core\\interactiveshell.py:3146: DtypeWarning: Columns (24) have mixed types.Specify dtype option on import or set low_memory=False.\n",
      "  has_raised = await self.run_ast_nodes(code_ast.body, cell_name,\n"
     ]
    }
   ],
   "source": [
    "t = pd.read_csv('./query_trades_AAPL_20200106_born202210121745.csv',)\n",
    "q = pd.read_csv('./query_quotes_AAPL_20200106_born202210121744.csv',)"
   ]
  },
  {
   "cell_type": "code",
   "execution_count": 3,
   "metadata": {},
   "outputs": [],
   "source": [
    "from taq_data_cleaning import gen_targets_temporal, gen_targets_events, gen_basic_features_TAQ"
   ]
  },
  {
   "cell_type": "code",
   "execution_count": 4,
   "metadata": {},
   "outputs": [
    {
     "name": "stdout",
     "output_type": "stream",
     "text": [
      "\u001b[1;31mSignature:\u001b[0m\n",
      "\u001b[0mgen_basic_features_TAQ\u001b[0m\u001b[1;33m(\u001b[0m\u001b[1;33m\n",
      "\u001b[0m    \u001b[0mt_v\u001b[0m\u001b[1;33m,\u001b[0m\u001b[1;33m\n",
      "\u001b[0m    \u001b[0mq_v\u001b[0m\u001b[1;33m,\u001b[0m\u001b[1;33m\n",
      "\u001b[0m    \u001b[0mday\u001b[0m\u001b[1;33m=\u001b[0m\u001b[0mdatetime\u001b[0m\u001b[1;33m.\u001b[0m\u001b[0mdatetime\u001b[0m\u001b[1;33m(\u001b[0m\u001b[1;36m2020\u001b[0m\u001b[1;33m,\u001b[0m \u001b[1;36m1\u001b[0m\u001b[1;33m,\u001b[0m \u001b[1;36m6\u001b[0m\u001b[1;33m,\u001b[0m \u001b[1;36m0\u001b[0m\u001b[1;33m,\u001b[0m \u001b[1;36m0\u001b[0m\u001b[1;33m)\u001b[0m\u001b[1;33m,\u001b[0m\u001b[1;33m\n",
      "\u001b[0m    \u001b[0mstr_filename\u001b[0m\u001b[1;33m=\u001b[0m\u001b[1;34m'clean_features_'\u001b[0m\u001b[1;33m,\u001b[0m\u001b[1;33m\n",
      "\u001b[0m\u001b[1;33m)\u001b[0m\u001b[1;33m\u001b[0m\u001b[1;33m\u001b[0m\u001b[0m\n",
      "\u001b[1;31mDocstring:\u001b[0m\n",
      "From clean trades and quotes dataframes built from TAQ data, generates simple features \n",
      "\n",
      "num_events: int\n",
      "    number of events ahead to build predict targets\n",
      "\u001b[1;31mFile:\u001b[0m      c:\\users\\e\\projects\\ams520_taq_project\\taq_data_cleaning.py\n",
      "\u001b[1;31mType:\u001b[0m      function\n"
     ]
    }
   ],
   "source": [
    "gen_basic_features_TAQ?"
   ]
  },
  {
   "cell_type": "code",
   "execution_count": 5,
   "metadata": {},
   "outputs": [],
   "source": [
    "df_features = gen_basic_features_TAQ(t, q,)"
   ]
  },
  {
   "cell_type": "code",
   "execution_count": 5,
   "metadata": {},
   "outputs": [
    {
     "data": {
      "text/html": [
       "<div>\n",
       "<style scoped>\n",
       "    .dataframe tbody tr th:only-of-type {\n",
       "        vertical-align: middle;\n",
       "    }\n",
       "\n",
       "    .dataframe tbody tr th {\n",
       "        vertical-align: top;\n",
       "    }\n",
       "\n",
       "    .dataframe thead th {\n",
       "        text-align: right;\n",
       "    }\n",
       "</style>\n",
       "<table border=\"1\" class=\"dataframe\">\n",
       "  <thead>\n",
       "    <tr style=\"text-align: right;\">\n",
       "      <th></th>\n",
       "      <th>index</th>\n",
       "      <th>time</th>\n",
       "      <th>ask_price</th>\n",
       "      <th>bid_price</th>\n",
       "      <th>ask_volume</th>\n",
       "      <th>bid_volume</th>\n",
       "      <th>mid_price</th>\n",
       "      <th>spread</th>\n",
       "      <th>dPask_dt</th>\n",
       "      <th>dPbid_dt</th>\n",
       "      <th>dVask_dt</th>\n",
       "      <th>dVbid_dt</th>\n",
       "      <th>avg_trade_price_10ms</th>\n",
       "      <th>avg_trade_price_100ms</th>\n",
       "      <th>avg_trade_price_1s</th>\n",
       "      <th>avg_trade_price_10s</th>\n",
       "      <th>avg_trade_volume_10ms</th>\n",
       "      <th>avg_trade_volume_100ms</th>\n",
       "      <th>avg_trade_volume_1s</th>\n",
       "      <th>avg_trade_volume_10s</th>\n",
       "    </tr>\n",
       "    <tr>\n",
       "      <th>id</th>\n",
       "      <th></th>\n",
       "      <th></th>\n",
       "      <th></th>\n",
       "      <th></th>\n",
       "      <th></th>\n",
       "      <th></th>\n",
       "      <th></th>\n",
       "      <th></th>\n",
       "      <th></th>\n",
       "      <th></th>\n",
       "      <th></th>\n",
       "      <th></th>\n",
       "      <th></th>\n",
       "      <th></th>\n",
       "      <th></th>\n",
       "      <th></th>\n",
       "      <th></th>\n",
       "      <th></th>\n",
       "      <th></th>\n",
       "      <th></th>\n",
       "    </tr>\n",
       "  </thead>\n",
       "  <tbody>\n",
       "    <tr>\n",
       "      <th>2214126</th>\n",
       "      <td>42179</td>\n",
       "      <td>35100.044580</td>\n",
       "      <td>295.08</td>\n",
       "      <td>295.04</td>\n",
       "      <td>1.0</td>\n",
       "      <td>1.0</td>\n",
       "      <td>295.060</td>\n",
       "      <td>0.04</td>\n",
       "      <td>-0.01</td>\n",
       "      <td>-0.01</td>\n",
       "      <td>-2.0</td>\n",
       "      <td>-1.0</td>\n",
       "      <td>81.468781</td>\n",
       "      <td>81.468781</td>\n",
       "      <td>73.762734</td>\n",
       "      <td>92.485452</td>\n",
       "      <td>38.522388</td>\n",
       "      <td>38.522388</td>\n",
       "      <td>33.826923</td>\n",
       "      <td>23.284404</td>\n",
       "    </tr>\n",
       "    <tr>\n",
       "      <th>2214141</th>\n",
       "      <td>42181</td>\n",
       "      <td>35100.044763</td>\n",
       "      <td>295.07</td>\n",
       "      <td>295.04</td>\n",
       "      <td>1.0</td>\n",
       "      <td>1.0</td>\n",
       "      <td>295.055</td>\n",
       "      <td>0.03</td>\n",
       "      <td>0.00</td>\n",
       "      <td>0.00</td>\n",
       "      <td>-4.0</td>\n",
       "      <td>0.0</td>\n",
       "      <td>82.530920</td>\n",
       "      <td>82.530920</td>\n",
       "      <td>76.081708</td>\n",
       "      <td>92.538789</td>\n",
       "      <td>37.041958</td>\n",
       "      <td>37.041958</td>\n",
       "      <td>33.943396</td>\n",
       "      <td>22.974242</td>\n",
       "    </tr>\n",
       "    <tr>\n",
       "      <th>2214146</th>\n",
       "      <td>42182</td>\n",
       "      <td>35100.044834</td>\n",
       "      <td>295.06</td>\n",
       "      <td>295.04</td>\n",
       "      <td>2.0</td>\n",
       "      <td>1.0</td>\n",
       "      <td>295.050</td>\n",
       "      <td>0.02</td>\n",
       "      <td>0.00</td>\n",
       "      <td>0.01</td>\n",
       "      <td>-1.0</td>\n",
       "      <td>0.0</td>\n",
       "      <td>85.722849</td>\n",
       "      <td>85.722849</td>\n",
       "      <td>82.688227</td>\n",
       "      <td>93.314248</td>\n",
       "      <td>37.817568</td>\n",
       "      <td>37.817568</td>\n",
       "      <td>36.286624</td>\n",
       "      <td>23.287651</td>\n",
       "    </tr>\n",
       "    <tr>\n",
       "      <th>2214167</th>\n",
       "      <td>42183</td>\n",
       "      <td>35100.045857</td>\n",
       "      <td>295.06</td>\n",
       "      <td>295.04</td>\n",
       "      <td>3.0</td>\n",
       "      <td>1.0</td>\n",
       "      <td>295.050</td>\n",
       "      <td>0.02</td>\n",
       "      <td>-0.02</td>\n",
       "      <td>0.00</td>\n",
       "      <td>2.0</td>\n",
       "      <td>0.0</td>\n",
       "      <td>87.061311</td>\n",
       "      <td>87.061311</td>\n",
       "      <td>95.780210</td>\n",
       "      <td>95.865806</td>\n",
       "      <td>38.918033</td>\n",
       "      <td>38.918033</td>\n",
       "      <td>29.251309</td>\n",
       "      <td>22.156566</td>\n",
       "    </tr>\n",
       "    <tr>\n",
       "      <th>2214865</th>\n",
       "      <td>42184</td>\n",
       "      <td>35100.094862</td>\n",
       "      <td>295.06</td>\n",
       "      <td>295.04</td>\n",
       "      <td>2.0</td>\n",
       "      <td>1.0</td>\n",
       "      <td>295.050</td>\n",
       "      <td>0.02</td>\n",
       "      <td>-0.03</td>\n",
       "      <td>-0.03</td>\n",
       "      <td>0.0</td>\n",
       "      <td>0.0</td>\n",
       "      <td>84.716192</td>\n",
       "      <td>84.716192</td>\n",
       "      <td>95.503117</td>\n",
       "      <td>94.753454</td>\n",
       "      <td>44.059406</td>\n",
       "      <td>44.059406</td>\n",
       "      <td>34.942029</td>\n",
       "      <td>24.146264</td>\n",
       "    </tr>\n",
       "  </tbody>\n",
       "</table>\n",
       "</div>"
      ],
      "text/plain": [
       "         index          time  ask_price  bid_price  ask_volume  bid_volume  \\\n",
       "id                                                                           \n",
       "2214126  42179  35100.044580     295.08     295.04         1.0         1.0   \n",
       "2214141  42181  35100.044763     295.07     295.04         1.0         1.0   \n",
       "2214146  42182  35100.044834     295.06     295.04         2.0         1.0   \n",
       "2214167  42183  35100.045857     295.06     295.04         3.0         1.0   \n",
       "2214865  42184  35100.094862     295.06     295.04         2.0         1.0   \n",
       "\n",
       "         mid_price  spread  dPask_dt  dPbid_dt  dVask_dt  dVbid_dt  \\\n",
       "id                                                                   \n",
       "2214126    295.060    0.04     -0.01     -0.01      -2.0      -1.0   \n",
       "2214141    295.055    0.03      0.00      0.00      -4.0       0.0   \n",
       "2214146    295.050    0.02      0.00      0.01      -1.0       0.0   \n",
       "2214167    295.050    0.02     -0.02      0.00       2.0       0.0   \n",
       "2214865    295.050    0.02     -0.03     -0.03       0.0       0.0   \n",
       "\n",
       "         avg_trade_price_10ms  avg_trade_price_100ms  avg_trade_price_1s  \\\n",
       "id                                                                         \n",
       "2214126             81.468781              81.468781           73.762734   \n",
       "2214141             82.530920              82.530920           76.081708   \n",
       "2214146             85.722849              85.722849           82.688227   \n",
       "2214167             87.061311              87.061311           95.780210   \n",
       "2214865             84.716192              84.716192           95.503117   \n",
       "\n",
       "         avg_trade_price_10s  avg_trade_volume_10ms  avg_trade_volume_100ms  \\\n",
       "id                                                                            \n",
       "2214126            92.485452              38.522388               38.522388   \n",
       "2214141            92.538789              37.041958               37.041958   \n",
       "2214146            93.314248              37.817568               37.817568   \n",
       "2214167            95.865806              38.918033               38.918033   \n",
       "2214865            94.753454              44.059406               44.059406   \n",
       "\n",
       "         avg_trade_volume_1s  avg_trade_volume_10s  \n",
       "id                                                  \n",
       "2214126            33.826923             23.284404  \n",
       "2214141            33.943396             22.974242  \n",
       "2214146            36.286624             23.287651  \n",
       "2214167            29.251309             22.156566  \n",
       "2214865            34.942029             24.146264  "
      ]
     },
     "execution_count": 5,
     "metadata": {},
     "output_type": "execute_result"
    }
   ],
   "source": [
    "df_features.head()"
   ]
  },
  {
   "cell_type": "code",
   "execution_count": 6,
   "metadata": {},
   "outputs": [],
   "source": [
    "df_events = gen_targets_events(q,num_events=30)"
   ]
  },
  {
   "cell_type": "code",
   "execution_count": 7,
   "metadata": {},
   "outputs": [],
   "source": [
    "\n",
    "df_targets_time = gen_targets_temporal(q,prediction_interval=100)"
   ]
  },
  {
   "cell_type": "code",
   "execution_count": 8,
   "metadata": {},
   "outputs": [
    {
     "data": {
      "text/html": [
       "<div>\n",
       "<style scoped>\n",
       "    .dataframe tbody tr th:only-of-type {\n",
       "        vertical-align: middle;\n",
       "    }\n",
       "\n",
       "    .dataframe tbody tr th {\n",
       "        vertical-align: top;\n",
       "    }\n",
       "\n",
       "    .dataframe thead th {\n",
       "        text-align: right;\n",
       "    }\n",
       "</style>\n",
       "<table border=\"1\" class=\"dataframe\">\n",
       "  <thead>\n",
       "    <tr style=\"text-align: right;\">\n",
       "      <th></th>\n",
       "      <th>index</th>\n",
       "      <th>id</th>\n",
       "      <th>time</th>\n",
       "      <th>midup100ms</th>\n",
       "      <th>middown100ms</th>\n",
       "      <th>mideq100ms</th>\n",
       "      <th>spreadup100ms</th>\n",
       "      <th>spreaddown100ms</th>\n",
       "      <th>spreadeq100ms</th>\n",
       "    </tr>\n",
       "  </thead>\n",
       "  <tbody>\n",
       "    <tr>\n",
       "      <th>276741</th>\n",
       "      <td>276741</td>\n",
       "      <td>18824031</td>\n",
       "      <td>48062.054981</td>\n",
       "      <td>False</td>\n",
       "      <td>False</td>\n",
       "      <td>True</td>\n",
       "      <td>False</td>\n",
       "      <td>False</td>\n",
       "      <td>True</td>\n",
       "    </tr>\n",
       "    <tr>\n",
       "      <th>316616</th>\n",
       "      <td>316616</td>\n",
       "      <td>22037368</td>\n",
       "      <td>51644.690476</td>\n",
       "      <td>False</td>\n",
       "      <td>False</td>\n",
       "      <td>True</td>\n",
       "      <td>False</td>\n",
       "      <td>False</td>\n",
       "      <td>True</td>\n",
       "    </tr>\n",
       "    <tr>\n",
       "      <th>320518</th>\n",
       "      <td>320518</td>\n",
       "      <td>22328225</td>\n",
       "      <td>51953.879979</td>\n",
       "      <td>False</td>\n",
       "      <td>False</td>\n",
       "      <td>True</td>\n",
       "      <td>False</td>\n",
       "      <td>False</td>\n",
       "      <td>True</td>\n",
       "    </tr>\n",
       "    <tr>\n",
       "      <th>111320</th>\n",
       "      <td>111320</td>\n",
       "      <td>8288129</td>\n",
       "      <td>38595.086408</td>\n",
       "      <td>False</td>\n",
       "      <td>True</td>\n",
       "      <td>False</td>\n",
       "      <td>False</td>\n",
       "      <td>False</td>\n",
       "      <td>True</td>\n",
       "    </tr>\n",
       "    <tr>\n",
       "      <th>199560</th>\n",
       "      <td>199560</td>\n",
       "      <td>13781621</td>\n",
       "      <td>42841.662448</td>\n",
       "      <td>False</td>\n",
       "      <td>False</td>\n",
       "      <td>True</td>\n",
       "      <td>False</td>\n",
       "      <td>False</td>\n",
       "      <td>True</td>\n",
       "    </tr>\n",
       "    <tr>\n",
       "      <th>266866</th>\n",
       "      <td>266866</td>\n",
       "      <td>18129160</td>\n",
       "      <td>47281.507572</td>\n",
       "      <td>False</td>\n",
       "      <td>False</td>\n",
       "      <td>True</td>\n",
       "      <td>False</td>\n",
       "      <td>False</td>\n",
       "      <td>True</td>\n",
       "    </tr>\n",
       "    <tr>\n",
       "      <th>34952</th>\n",
       "      <td>34952</td>\n",
       "      <td>3783524</td>\n",
       "      <td>35894.606952</td>\n",
       "      <td>False</td>\n",
       "      <td>False</td>\n",
       "      <td>True</td>\n",
       "      <td>False</td>\n",
       "      <td>False</td>\n",
       "      <td>True</td>\n",
       "    </tr>\n",
       "    <tr>\n",
       "      <th>77054</th>\n",
       "      <td>77054</td>\n",
       "      <td>6363842</td>\n",
       "      <td>37355.809590</td>\n",
       "      <td>False</td>\n",
       "      <td>True</td>\n",
       "      <td>False</td>\n",
       "      <td>False</td>\n",
       "      <td>False</td>\n",
       "      <td>True</td>\n",
       "    </tr>\n",
       "  </tbody>\n",
       "</table>\n",
       "</div>"
      ],
      "text/plain": [
       "         index        id          time  midup100ms  middown100ms  mideq100ms  \\\n",
       "276741  276741  18824031  48062.054981       False         False        True   \n",
       "316616  316616  22037368  51644.690476       False         False        True   \n",
       "320518  320518  22328225  51953.879979       False         False        True   \n",
       "111320  111320   8288129  38595.086408       False          True       False   \n",
       "199560  199560  13781621  42841.662448       False         False        True   \n",
       "266866  266866  18129160  47281.507572       False         False        True   \n",
       "34952    34952   3783524  35894.606952       False         False        True   \n",
       "77054    77054   6363842  37355.809590       False          True       False   \n",
       "\n",
       "        spreadup100ms  spreaddown100ms  spreadeq100ms  \n",
       "276741          False            False           True  \n",
       "316616          False            False           True  \n",
       "320518          False            False           True  \n",
       "111320          False            False           True  \n",
       "199560          False            False           True  \n",
       "266866          False            False           True  \n",
       "34952           False            False           True  \n",
       "77054           False            False           True  "
      ]
     },
     "execution_count": 8,
     "metadata": {},
     "output_type": "execute_result"
    }
   ],
   "source": [
    "df_targets_time.sample(8)"
   ]
  },
  {
   "cell_type": "code",
   "execution_count": 12,
   "metadata": {},
   "outputs": [],
   "source": [
    "def create_df_combined(df_features, df_targets_time, df_events=None ):\n",
    "\n",
    "    #Explicit merge, should use left join instead\n",
    "    try:\n",
    "        df_features.set_index('id', inplace=True)\n",
    "    except:\n",
    "        pass\n",
    "    df_features.sort_index(inplace=True)\n",
    "    try:\n",
    "        df_targets_time.set_index('id', inplace=True) \n",
    "    except:\n",
    "        pass\n",
    "    df_targets_time.sort_index(inplace=True)\n",
    "    ntarg = []\n",
    "    for col in df_targets_time.columns:\n",
    "        if 'mid' in col or 'spread' in col:\n",
    "            ntarg += [col]\n",
    "    ind_comb = set(df_features.index.to_numpy()).intersection(set(df_targets_time.index.to_numpy()))\n",
    "    df_combine = df_features.loc[ind_comb]\n",
    "    df_combine[ntarg] = df_targets_time[ntarg].loc[ind_comb]\n",
    "    if ~isinstance(df_events, type(None)):\n",
    "        try:\n",
    "            df_events.set_index('id', inplace=True)\n",
    "        except:\n",
    "            pass\n",
    "        nevent = []\n",
    "        for col in df_events.columns:\n",
    "            if 'mid' in col or 'spread' in col:\n",
    "                nevent += [col]\n",
    "        ind_comb = ind_comb.intersection(set(df_events.index.to_numpy()))\n",
    "   \n",
    "        df_combine[nevent] = df_events[nevent].loc[ind_comb]\n",
    "    return df_combine\n",
    "    \n",
    "    \n",
    "\n",
    "    "
   ]
  },
  {
   "cell_type": "code",
   "execution_count": 13,
   "metadata": {},
   "outputs": [],
   "source": [
    "df_combine =  create_df_combined(df_features, df_targets_time, df_events)"
   ]
  },
  {
   "cell_type": "code",
   "execution_count": 14,
   "metadata": {},
   "outputs": [],
   "source": [
    "df_combine.reset_index(inplace=True)\n",
    "df_combine.to_feather(\"clean_combine_30e_50ms_AAPL_20200106.f\") ## checkpoint combined features/targets"
   ]
  },
  {
   "cell_type": "code",
   "execution_count": 46,
   "metadata": {},
   "outputs": [
    {
     "data": {
      "text/html": [
       "<div>\n",
       "<style scoped>\n",
       "    .dataframe tbody tr th:only-of-type {\n",
       "        vertical-align: middle;\n",
       "    }\n",
       "\n",
       "    .dataframe tbody tr th {\n",
       "        vertical-align: top;\n",
       "    }\n",
       "\n",
       "    .dataframe thead th {\n",
       "        text-align: right;\n",
       "    }\n",
       "</style>\n",
       "<table border=\"1\" class=\"dataframe\">\n",
       "  <thead>\n",
       "    <tr style=\"text-align: right;\">\n",
       "      <th></th>\n",
       "      <th>level_0</th>\n",
       "      <th>id</th>\n",
       "      <th>index</th>\n",
       "      <th>time</th>\n",
       "      <th>ask_price</th>\n",
       "      <th>bid_price</th>\n",
       "      <th>ask_volume</th>\n",
       "      <th>bid_volume</th>\n",
       "      <th>mid_price</th>\n",
       "      <th>spread</th>\n",
       "      <th>...</th>\n",
       "      <th>mideq100ms</th>\n",
       "      <th>spreadup100ms</th>\n",
       "      <th>spreaddown100ms</th>\n",
       "      <th>spreadeq100ms</th>\n",
       "      <th>midup</th>\n",
       "      <th>middown</th>\n",
       "      <th>mideq</th>\n",
       "      <th>spreadup</th>\n",
       "      <th>spreaddown</th>\n",
       "      <th>spreadeq</th>\n",
       "    </tr>\n",
       "  </thead>\n",
       "  <tbody>\n",
       "    <tr>\n",
       "      <th>0</th>\n",
       "      <td>0</td>\n",
       "      <td>3145728</td>\n",
       "      <td>60760</td>\n",
       "      <td>35567.630740</td>\n",
       "      <td>295.96</td>\n",
       "      <td>295.93</td>\n",
       "      <td>1.0</td>\n",
       "      <td>2.0</td>\n",
       "      <td>295.945</td>\n",
       "      <td>0.03</td>\n",
       "      <td>...</td>\n",
       "      <td>True</td>\n",
       "      <td>False</td>\n",
       "      <td>False</td>\n",
       "      <td>True</td>\n",
       "      <td>False</td>\n",
       "      <td>True</td>\n",
       "      <td>False</td>\n",
       "      <td>False</td>\n",
       "      <td>False</td>\n",
       "      <td>True</td>\n",
       "    </tr>\n",
       "    <tr>\n",
       "      <th>1</th>\n",
       "      <td>1</td>\n",
       "      <td>7340033</td>\n",
       "      <td>139161</td>\n",
       "      <td>37963.163817</td>\n",
       "      <td>297.15</td>\n",
       "      <td>297.14</td>\n",
       "      <td>2.0</td>\n",
       "      <td>2.0</td>\n",
       "      <td>297.145</td>\n",
       "      <td>0.01</td>\n",
       "      <td>...</td>\n",
       "      <td>True</td>\n",
       "      <td>False</td>\n",
       "      <td>False</td>\n",
       "      <td>True</td>\n",
       "      <td>False</td>\n",
       "      <td>True</td>\n",
       "      <td>False</td>\n",
       "      <td>False</td>\n",
       "      <td>False</td>\n",
       "      <td>True</td>\n",
       "    </tr>\n",
       "    <tr>\n",
       "      <th>2</th>\n",
       "      <td>2</td>\n",
       "      <td>3145730</td>\n",
       "      <td>60761</td>\n",
       "      <td>35567.630920</td>\n",
       "      <td>295.97</td>\n",
       "      <td>295.93</td>\n",
       "      <td>4.0</td>\n",
       "      <td>2.0</td>\n",
       "      <td>295.950</td>\n",
       "      <td>0.04</td>\n",
       "      <td>...</td>\n",
       "      <td>True</td>\n",
       "      <td>False</td>\n",
       "      <td>False</td>\n",
       "      <td>True</td>\n",
       "      <td>False</td>\n",
       "      <td>True</td>\n",
       "      <td>False</td>\n",
       "      <td>False</td>\n",
       "      <td>False</td>\n",
       "      <td>True</td>\n",
       "    </tr>\n",
       "    <tr>\n",
       "      <th>3</th>\n",
       "      <td>3</td>\n",
       "      <td>13631491</td>\n",
       "      <td>240204</td>\n",
       "      <td>42697.359376</td>\n",
       "      <td>298.45</td>\n",
       "      <td>298.43</td>\n",
       "      <td>1.0</td>\n",
       "      <td>1.0</td>\n",
       "      <td>298.440</td>\n",
       "      <td>0.02</td>\n",
       "      <td>...</td>\n",
       "      <td>True</td>\n",
       "      <td>False</td>\n",
       "      <td>False</td>\n",
       "      <td>True</td>\n",
       "      <td>False</td>\n",
       "      <td>True</td>\n",
       "      <td>False</td>\n",
       "      <td>False</td>\n",
       "      <td>False</td>\n",
       "      <td>True</td>\n",
       "    </tr>\n",
       "    <tr>\n",
       "      <th>4</th>\n",
       "      <td>4</td>\n",
       "      <td>3145732</td>\n",
       "      <td>60762</td>\n",
       "      <td>35567.630974</td>\n",
       "      <td>295.97</td>\n",
       "      <td>295.93</td>\n",
       "      <td>3.0</td>\n",
       "      <td>2.0</td>\n",
       "      <td>295.950</td>\n",
       "      <td>0.04</td>\n",
       "      <td>...</td>\n",
       "      <td>True</td>\n",
       "      <td>False</td>\n",
       "      <td>False</td>\n",
       "      <td>True</td>\n",
       "      <td>False</td>\n",
       "      <td>True</td>\n",
       "      <td>False</td>\n",
       "      <td>False</td>\n",
       "      <td>False</td>\n",
       "      <td>True</td>\n",
       "    </tr>\n",
       "  </tbody>\n",
       "</table>\n",
       "<p>5 rows × 34 columns</p>\n",
       "</div>"
      ],
      "text/plain": [
       "   level_0        id   index          time  ask_price  bid_price  ask_volume  \\\n",
       "0        0   3145728   60760  35567.630740     295.96     295.93         1.0   \n",
       "1        1   7340033  139161  37963.163817     297.15     297.14         2.0   \n",
       "2        2   3145730   60761  35567.630920     295.97     295.93         4.0   \n",
       "3        3  13631491  240204  42697.359376     298.45     298.43         1.0   \n",
       "4        4   3145732   60762  35567.630974     295.97     295.93         3.0   \n",
       "\n",
       "   bid_volume  mid_price  spread  ...  mideq100ms  spreadup100ms  \\\n",
       "0         2.0    295.945    0.03  ...        True          False   \n",
       "1         2.0    297.145    0.01  ...        True          False   \n",
       "2         2.0    295.950    0.04  ...        True          False   \n",
       "3         1.0    298.440    0.02  ...        True          False   \n",
       "4         2.0    295.950    0.04  ...        True          False   \n",
       "\n",
       "   spreaddown100ms  spreadeq100ms  midup  middown  mideq  spreadup  \\\n",
       "0            False           True  False     True  False     False   \n",
       "1            False           True  False     True  False     False   \n",
       "2            False           True  False     True  False     False   \n",
       "3            False           True  False     True  False     False   \n",
       "4            False           True  False     True  False     False   \n",
       "\n",
       "   spreaddown  spreadeq  \n",
       "0       False      True  \n",
       "1       False      True  \n",
       "2       False      True  \n",
       "3       False      True  \n",
       "4       False      True  \n",
       "\n",
       "[5 rows x 34 columns]"
      ]
     },
     "execution_count": 46,
     "metadata": {},
     "output_type": "execute_result"
    }
   ],
   "source": [
    "df_combine.head()"
   ]
  },
  {
   "cell_type": "code",
   "execution_count": 15,
   "metadata": {},
   "outputs": [
    {
     "data": {
      "application/vnd.plotly.v1+json": {
       "config": {
        "plotlyServerURL": "https://plot.ly"
       },
       "data": [
        {
         "type": "bar",
         "x": [
          "midup100ms",
          "middown100ms",
          "mideq100ms",
          "spreadup100ms",
          "spreaddown100ms",
          "spreadeq100ms",
          "midup",
          "middown",
          "mideq",
          "spreadup",
          "spreaddown",
          "spreadeq"
         ],
         "y": [
          0.06842948555947555,
          0.07223042164107438,
          0.8593400927994501,
          0.0003335927943956411,
          0.00036139219392861116,
          0.9996386078060714,
          0.45679467868948576,
          0.4260257978427666,
          0.11711887023240299,
          0.06664274233494738,
          0.08099986858465676,
          0.9189394781799985
         ]
        }
       ],
       "layout": {
        "template": {
         "data": {
          "bar": [
           {
            "error_x": {
             "color": "#2a3f5f"
            },
            "error_y": {
             "color": "#2a3f5f"
            },
            "marker": {
             "line": {
              "color": "#E5ECF6",
              "width": 0.5
             },
             "pattern": {
              "fillmode": "overlay",
              "size": 10,
              "solidity": 0.2
             }
            },
            "type": "bar"
           }
          ],
          "barpolar": [
           {
            "marker": {
             "line": {
              "color": "#E5ECF6",
              "width": 0.5
             },
             "pattern": {
              "fillmode": "overlay",
              "size": 10,
              "solidity": 0.2
             }
            },
            "type": "barpolar"
           }
          ],
          "carpet": [
           {
            "aaxis": {
             "endlinecolor": "#2a3f5f",
             "gridcolor": "white",
             "linecolor": "white",
             "minorgridcolor": "white",
             "startlinecolor": "#2a3f5f"
            },
            "baxis": {
             "endlinecolor": "#2a3f5f",
             "gridcolor": "white",
             "linecolor": "white",
             "minorgridcolor": "white",
             "startlinecolor": "#2a3f5f"
            },
            "type": "carpet"
           }
          ],
          "choropleth": [
           {
            "colorbar": {
             "outlinewidth": 0,
             "ticks": ""
            },
            "type": "choropleth"
           }
          ],
          "contour": [
           {
            "colorbar": {
             "outlinewidth": 0,
             "ticks": ""
            },
            "colorscale": [
             [
              0,
              "#0d0887"
             ],
             [
              0.1111111111111111,
              "#46039f"
             ],
             [
              0.2222222222222222,
              "#7201a8"
             ],
             [
              0.3333333333333333,
              "#9c179e"
             ],
             [
              0.4444444444444444,
              "#bd3786"
             ],
             [
              0.5555555555555556,
              "#d8576b"
             ],
             [
              0.6666666666666666,
              "#ed7953"
             ],
             [
              0.7777777777777778,
              "#fb9f3a"
             ],
             [
              0.8888888888888888,
              "#fdca26"
             ],
             [
              1,
              "#f0f921"
             ]
            ],
            "type": "contour"
           }
          ],
          "contourcarpet": [
           {
            "colorbar": {
             "outlinewidth": 0,
             "ticks": ""
            },
            "type": "contourcarpet"
           }
          ],
          "heatmap": [
           {
            "colorbar": {
             "outlinewidth": 0,
             "ticks": ""
            },
            "colorscale": [
             [
              0,
              "#0d0887"
             ],
             [
              0.1111111111111111,
              "#46039f"
             ],
             [
              0.2222222222222222,
              "#7201a8"
             ],
             [
              0.3333333333333333,
              "#9c179e"
             ],
             [
              0.4444444444444444,
              "#bd3786"
             ],
             [
              0.5555555555555556,
              "#d8576b"
             ],
             [
              0.6666666666666666,
              "#ed7953"
             ],
             [
              0.7777777777777778,
              "#fb9f3a"
             ],
             [
              0.8888888888888888,
              "#fdca26"
             ],
             [
              1,
              "#f0f921"
             ]
            ],
            "type": "heatmap"
           }
          ],
          "heatmapgl": [
           {
            "colorbar": {
             "outlinewidth": 0,
             "ticks": ""
            },
            "colorscale": [
             [
              0,
              "#0d0887"
             ],
             [
              0.1111111111111111,
              "#46039f"
             ],
             [
              0.2222222222222222,
              "#7201a8"
             ],
             [
              0.3333333333333333,
              "#9c179e"
             ],
             [
              0.4444444444444444,
              "#bd3786"
             ],
             [
              0.5555555555555556,
              "#d8576b"
             ],
             [
              0.6666666666666666,
              "#ed7953"
             ],
             [
              0.7777777777777778,
              "#fb9f3a"
             ],
             [
              0.8888888888888888,
              "#fdca26"
             ],
             [
              1,
              "#f0f921"
             ]
            ],
            "type": "heatmapgl"
           }
          ],
          "histogram": [
           {
            "marker": {
             "pattern": {
              "fillmode": "overlay",
              "size": 10,
              "solidity": 0.2
             }
            },
            "type": "histogram"
           }
          ],
          "histogram2d": [
           {
            "colorbar": {
             "outlinewidth": 0,
             "ticks": ""
            },
            "colorscale": [
             [
              0,
              "#0d0887"
             ],
             [
              0.1111111111111111,
              "#46039f"
             ],
             [
              0.2222222222222222,
              "#7201a8"
             ],
             [
              0.3333333333333333,
              "#9c179e"
             ],
             [
              0.4444444444444444,
              "#bd3786"
             ],
             [
              0.5555555555555556,
              "#d8576b"
             ],
             [
              0.6666666666666666,
              "#ed7953"
             ],
             [
              0.7777777777777778,
              "#fb9f3a"
             ],
             [
              0.8888888888888888,
              "#fdca26"
             ],
             [
              1,
              "#f0f921"
             ]
            ],
            "type": "histogram2d"
           }
          ],
          "histogram2dcontour": [
           {
            "colorbar": {
             "outlinewidth": 0,
             "ticks": ""
            },
            "colorscale": [
             [
              0,
              "#0d0887"
             ],
             [
              0.1111111111111111,
              "#46039f"
             ],
             [
              0.2222222222222222,
              "#7201a8"
             ],
             [
              0.3333333333333333,
              "#9c179e"
             ],
             [
              0.4444444444444444,
              "#bd3786"
             ],
             [
              0.5555555555555556,
              "#d8576b"
             ],
             [
              0.6666666666666666,
              "#ed7953"
             ],
             [
              0.7777777777777778,
              "#fb9f3a"
             ],
             [
              0.8888888888888888,
              "#fdca26"
             ],
             [
              1,
              "#f0f921"
             ]
            ],
            "type": "histogram2dcontour"
           }
          ],
          "mesh3d": [
           {
            "colorbar": {
             "outlinewidth": 0,
             "ticks": ""
            },
            "type": "mesh3d"
           }
          ],
          "parcoords": [
           {
            "line": {
             "colorbar": {
              "outlinewidth": 0,
              "ticks": ""
             }
            },
            "type": "parcoords"
           }
          ],
          "pie": [
           {
            "automargin": true,
            "type": "pie"
           }
          ],
          "scatter": [
           {
            "marker": {
             "colorbar": {
              "outlinewidth": 0,
              "ticks": ""
             }
            },
            "type": "scatter"
           }
          ],
          "scatter3d": [
           {
            "line": {
             "colorbar": {
              "outlinewidth": 0,
              "ticks": ""
             }
            },
            "marker": {
             "colorbar": {
              "outlinewidth": 0,
              "ticks": ""
             }
            },
            "type": "scatter3d"
           }
          ],
          "scattercarpet": [
           {
            "marker": {
             "colorbar": {
              "outlinewidth": 0,
              "ticks": ""
             }
            },
            "type": "scattercarpet"
           }
          ],
          "scattergeo": [
           {
            "marker": {
             "colorbar": {
              "outlinewidth": 0,
              "ticks": ""
             }
            },
            "type": "scattergeo"
           }
          ],
          "scattergl": [
           {
            "marker": {
             "colorbar": {
              "outlinewidth": 0,
              "ticks": ""
             }
            },
            "type": "scattergl"
           }
          ],
          "scattermapbox": [
           {
            "marker": {
             "colorbar": {
              "outlinewidth": 0,
              "ticks": ""
             }
            },
            "type": "scattermapbox"
           }
          ],
          "scatterpolar": [
           {
            "marker": {
             "colorbar": {
              "outlinewidth": 0,
              "ticks": ""
             }
            },
            "type": "scatterpolar"
           }
          ],
          "scatterpolargl": [
           {
            "marker": {
             "colorbar": {
              "outlinewidth": 0,
              "ticks": ""
             }
            },
            "type": "scatterpolargl"
           }
          ],
          "scatterternary": [
           {
            "marker": {
             "colorbar": {
              "outlinewidth": 0,
              "ticks": ""
             }
            },
            "type": "scatterternary"
           }
          ],
          "surface": [
           {
            "colorbar": {
             "outlinewidth": 0,
             "ticks": ""
            },
            "colorscale": [
             [
              0,
              "#0d0887"
             ],
             [
              0.1111111111111111,
              "#46039f"
             ],
             [
              0.2222222222222222,
              "#7201a8"
             ],
             [
              0.3333333333333333,
              "#9c179e"
             ],
             [
              0.4444444444444444,
              "#bd3786"
             ],
             [
              0.5555555555555556,
              "#d8576b"
             ],
             [
              0.6666666666666666,
              "#ed7953"
             ],
             [
              0.7777777777777778,
              "#fb9f3a"
             ],
             [
              0.8888888888888888,
              "#fdca26"
             ],
             [
              1,
              "#f0f921"
             ]
            ],
            "type": "surface"
           }
          ],
          "table": [
           {
            "cells": {
             "fill": {
              "color": "#EBF0F8"
             },
             "line": {
              "color": "white"
             }
            },
            "header": {
             "fill": {
              "color": "#C8D4E3"
             },
             "line": {
              "color": "white"
             }
            },
            "type": "table"
           }
          ]
         },
         "layout": {
          "annotationdefaults": {
           "arrowcolor": "#2a3f5f",
           "arrowhead": 0,
           "arrowwidth": 1
          },
          "autotypenumbers": "strict",
          "coloraxis": {
           "colorbar": {
            "outlinewidth": 0,
            "ticks": ""
           }
          },
          "colorscale": {
           "diverging": [
            [
             0,
             "#8e0152"
            ],
            [
             0.1,
             "#c51b7d"
            ],
            [
             0.2,
             "#de77ae"
            ],
            [
             0.3,
             "#f1b6da"
            ],
            [
             0.4,
             "#fde0ef"
            ],
            [
             0.5,
             "#f7f7f7"
            ],
            [
             0.6,
             "#e6f5d0"
            ],
            [
             0.7,
             "#b8e186"
            ],
            [
             0.8,
             "#7fbc41"
            ],
            [
             0.9,
             "#4d9221"
            ],
            [
             1,
             "#276419"
            ]
           ],
           "sequential": [
            [
             0,
             "#0d0887"
            ],
            [
             0.1111111111111111,
             "#46039f"
            ],
            [
             0.2222222222222222,
             "#7201a8"
            ],
            [
             0.3333333333333333,
             "#9c179e"
            ],
            [
             0.4444444444444444,
             "#bd3786"
            ],
            [
             0.5555555555555556,
             "#d8576b"
            ],
            [
             0.6666666666666666,
             "#ed7953"
            ],
            [
             0.7777777777777778,
             "#fb9f3a"
            ],
            [
             0.8888888888888888,
             "#fdca26"
            ],
            [
             1,
             "#f0f921"
            ]
           ],
           "sequentialminus": [
            [
             0,
             "#0d0887"
            ],
            [
             0.1111111111111111,
             "#46039f"
            ],
            [
             0.2222222222222222,
             "#7201a8"
            ],
            [
             0.3333333333333333,
             "#9c179e"
            ],
            [
             0.4444444444444444,
             "#bd3786"
            ],
            [
             0.5555555555555556,
             "#d8576b"
            ],
            [
             0.6666666666666666,
             "#ed7953"
            ],
            [
             0.7777777777777778,
             "#fb9f3a"
            ],
            [
             0.8888888888888888,
             "#fdca26"
            ],
            [
             1,
             "#f0f921"
            ]
           ]
          },
          "colorway": [
           "#636efa",
           "#EF553B",
           "#00cc96",
           "#ab63fa",
           "#FFA15A",
           "#19d3f3",
           "#FF6692",
           "#B6E880",
           "#FF97FF",
           "#FECB52"
          ],
          "font": {
           "color": "#2a3f5f"
          },
          "geo": {
           "bgcolor": "white",
           "lakecolor": "white",
           "landcolor": "#E5ECF6",
           "showlakes": true,
           "showland": true,
           "subunitcolor": "white"
          },
          "hoverlabel": {
           "align": "left"
          },
          "hovermode": "closest",
          "mapbox": {
           "style": "light"
          },
          "paper_bgcolor": "white",
          "plot_bgcolor": "#E5ECF6",
          "polar": {
           "angularaxis": {
            "gridcolor": "white",
            "linecolor": "white",
            "ticks": ""
           },
           "bgcolor": "#E5ECF6",
           "radialaxis": {
            "gridcolor": "white",
            "linecolor": "white",
            "ticks": ""
           }
          },
          "scene": {
           "xaxis": {
            "backgroundcolor": "#E5ECF6",
            "gridcolor": "white",
            "gridwidth": 2,
            "linecolor": "white",
            "showbackground": true,
            "ticks": "",
            "zerolinecolor": "white"
           },
           "yaxis": {
            "backgroundcolor": "#E5ECF6",
            "gridcolor": "white",
            "gridwidth": 2,
            "linecolor": "white",
            "showbackground": true,
            "ticks": "",
            "zerolinecolor": "white"
           },
           "zaxis": {
            "backgroundcolor": "#E5ECF6",
            "gridcolor": "white",
            "gridwidth": 2,
            "linecolor": "white",
            "showbackground": true,
            "ticks": "",
            "zerolinecolor": "white"
           }
          },
          "shapedefaults": {
           "line": {
            "color": "#2a3f5f"
           }
          },
          "ternary": {
           "aaxis": {
            "gridcolor": "white",
            "linecolor": "white",
            "ticks": ""
           },
           "baxis": {
            "gridcolor": "white",
            "linecolor": "white",
            "ticks": ""
           },
           "bgcolor": "#E5ECF6",
           "caxis": {
            "gridcolor": "white",
            "linecolor": "white",
            "ticks": ""
           }
          },
          "title": {
           "x": 0.05
          },
          "xaxis": {
           "automargin": true,
           "gridcolor": "white",
           "linecolor": "white",
           "ticks": "",
           "title": {
            "standoff": 15
           },
           "zerolinecolor": "white",
           "zerolinewidth": 2
          },
          "yaxis": {
           "automargin": true,
           "gridcolor": "white",
           "linecolor": "white",
           "ticks": "",
           "title": {
            "standoff": 15
           },
           "zerolinecolor": "white",
           "zerolinewidth": 2
          }
         }
        },
        "title": {
         "text": "fraction of targets True"
        }
       }
      }
     },
     "metadata": {},
     "output_type": "display_data"
    }
   ],
   "source": [
    "import plotly.graph_objects as go\n",
    "cols = []\n",
    "for col in df_combine.columns:\n",
    "    if 'mid' in col or 'spread' in col:\n",
    "        cols += [col]\n",
    "cols = cols[2:]\n",
    "fig = go.Figure()\n",
    "fig.add_bar(x=cols,y=df_combine[cols].sum()/len(df_combine))\n",
    "fig.update_layout(title_text=\"fraction of targets True\")\n",
    "fig.show()"
   ]
  },
  {
   "cell_type": "code",
   "execution_count": 10,
   "metadata": {},
   "outputs": [],
   "source": [
    "rng = np.random.default_rng(3407)"
   ]
  },
  {
   "cell_type": "code",
   "execution_count": 16,
   "metadata": {},
   "outputs": [
    {
     "name": "stdout",
     "output_type": "stream",
     "text": [
      "[LibSVM]"
     ]
    },
    {
     "data": {
      "text/html": [
       "<style>#sk-container-id-1 {color: black;background-color: white;}#sk-container-id-1 pre{padding: 0;}#sk-container-id-1 div.sk-toggleable {background-color: white;}#sk-container-id-1 label.sk-toggleable__label {cursor: pointer;display: block;width: 100%;margin-bottom: 0;padding: 0.3em;box-sizing: border-box;text-align: center;}#sk-container-id-1 label.sk-toggleable__label-arrow:before {content: \"▸\";float: left;margin-right: 0.25em;color: #696969;}#sk-container-id-1 label.sk-toggleable__label-arrow:hover:before {color: black;}#sk-container-id-1 div.sk-estimator:hover label.sk-toggleable__label-arrow:before {color: black;}#sk-container-id-1 div.sk-toggleable__content {max-height: 0;max-width: 0;overflow: hidden;text-align: left;background-color: #f0f8ff;}#sk-container-id-1 div.sk-toggleable__content pre {margin: 0.2em;color: black;border-radius: 0.25em;background-color: #f0f8ff;}#sk-container-id-1 input.sk-toggleable__control:checked~div.sk-toggleable__content {max-height: 200px;max-width: 100%;overflow: auto;}#sk-container-id-1 input.sk-toggleable__control:checked~label.sk-toggleable__label-arrow:before {content: \"▾\";}#sk-container-id-1 div.sk-estimator input.sk-toggleable__control:checked~label.sk-toggleable__label {background-color: #d4ebff;}#sk-container-id-1 div.sk-label input.sk-toggleable__control:checked~label.sk-toggleable__label {background-color: #d4ebff;}#sk-container-id-1 input.sk-hidden--visually {border: 0;clip: rect(1px 1px 1px 1px);clip: rect(1px, 1px, 1px, 1px);height: 1px;margin: -1px;overflow: hidden;padding: 0;position: absolute;width: 1px;}#sk-container-id-1 div.sk-estimator {font-family: monospace;background-color: #f0f8ff;border: 1px dotted black;border-radius: 0.25em;box-sizing: border-box;margin-bottom: 0.5em;}#sk-container-id-1 div.sk-estimator:hover {background-color: #d4ebff;}#sk-container-id-1 div.sk-parallel-item::after {content: \"\";width: 100%;border-bottom: 1px solid gray;flex-grow: 1;}#sk-container-id-1 div.sk-label:hover label.sk-toggleable__label {background-color: #d4ebff;}#sk-container-id-1 div.sk-serial::before {content: \"\";position: absolute;border-left: 1px solid gray;box-sizing: border-box;top: 0;bottom: 0;left: 50%;z-index: 0;}#sk-container-id-1 div.sk-serial {display: flex;flex-direction: column;align-items: center;background-color: white;padding-right: 0.2em;padding-left: 0.2em;position: relative;}#sk-container-id-1 div.sk-item {position: relative;z-index: 1;}#sk-container-id-1 div.sk-parallel {display: flex;align-items: stretch;justify-content: center;background-color: white;position: relative;}#sk-container-id-1 div.sk-item::before, #sk-container-id-1 div.sk-parallel-item::before {content: \"\";position: absolute;border-left: 1px solid gray;box-sizing: border-box;top: 0;bottom: 0;left: 50%;z-index: -1;}#sk-container-id-1 div.sk-parallel-item {display: flex;flex-direction: column;z-index: 1;position: relative;background-color: white;}#sk-container-id-1 div.sk-parallel-item:first-child::after {align-self: flex-end;width: 50%;}#sk-container-id-1 div.sk-parallel-item:last-child::after {align-self: flex-start;width: 50%;}#sk-container-id-1 div.sk-parallel-item:only-child::after {width: 0;}#sk-container-id-1 div.sk-dashed-wrapped {border: 1px dashed gray;margin: 0 0.4em 0.5em 0.4em;box-sizing: border-box;padding-bottom: 0.4em;background-color: white;}#sk-container-id-1 div.sk-label label {font-family: monospace;font-weight: bold;display: inline-block;line-height: 1.2em;}#sk-container-id-1 div.sk-label-container {text-align: center;}#sk-container-id-1 div.sk-container {/* jupyter's `normalize.less` sets `[hidden] { display: none; }` but bootstrap.min.css set `[hidden] { display: none !important; }` so we also need the `!important` here to be able to override the default hidden behavior on the sphinx rendered scikit-learn.org. See: https://github.com/scikit-learn/scikit-learn/issues/21755 */display: inline-block !important;position: relative;}#sk-container-id-1 div.sk-text-repr-fallback {display: none;}</style><div id=\"sk-container-id-1\" class=\"sk-top-container\"><div class=\"sk-text-repr-fallback\"><pre>Pipeline(steps=[(&#x27;scaler&#x27;, StandardScaler()),\n",
       "                (&#x27;svm_clf&#x27;,\n",
       "                 SVC(C=0.25, coef0=1.0, degree=2, gamma=1.0, kernel=&#x27;poly&#x27;,\n",
       "                     verbose=True))])</pre><b>In a Jupyter environment, please rerun this cell to show the HTML representation or trust the notebook. <br />On GitHub, the HTML representation is unable to render, please try loading this page with nbviewer.org.</b></div><div class=\"sk-container\" hidden><div class=\"sk-item sk-dashed-wrapped\"><div class=\"sk-label-container\"><div class=\"sk-label sk-toggleable\"><input class=\"sk-toggleable__control sk-hidden--visually\" id=\"sk-estimator-id-1\" type=\"checkbox\" ><label for=\"sk-estimator-id-1\" class=\"sk-toggleable__label sk-toggleable__label-arrow\">Pipeline</label><div class=\"sk-toggleable__content\"><pre>Pipeline(steps=[(&#x27;scaler&#x27;, StandardScaler()),\n",
       "                (&#x27;svm_clf&#x27;,\n",
       "                 SVC(C=0.25, coef0=1.0, degree=2, gamma=1.0, kernel=&#x27;poly&#x27;,\n",
       "                     verbose=True))])</pre></div></div></div><div class=\"sk-serial\"><div class=\"sk-item\"><div class=\"sk-estimator sk-toggleable\"><input class=\"sk-toggleable__control sk-hidden--visually\" id=\"sk-estimator-id-2\" type=\"checkbox\" ><label for=\"sk-estimator-id-2\" class=\"sk-toggleable__label sk-toggleable__label-arrow\">StandardScaler</label><div class=\"sk-toggleable__content\"><pre>StandardScaler()</pre></div></div></div><div class=\"sk-item\"><div class=\"sk-estimator sk-toggleable\"><input class=\"sk-toggleable__control sk-hidden--visually\" id=\"sk-estimator-id-3\" type=\"checkbox\" ><label for=\"sk-estimator-id-3\" class=\"sk-toggleable__label sk-toggleable__label-arrow\">SVC</label><div class=\"sk-toggleable__content\"><pre>SVC(C=0.25, coef0=1.0, degree=2, gamma=1.0, kernel=&#x27;poly&#x27;, verbose=True)</pre></div></div></div></div></div></div></div>"
      ],
      "text/plain": [
       "Pipeline(steps=[('scaler', StandardScaler()),\n",
       "                ('svm_clf',\n",
       "                 SVC(C=0.25, coef0=1.0, degree=2, gamma=1.0, kernel='poly',\n",
       "                     verbose=True))])"
      ]
     },
     "execution_count": 16,
     "metadata": {},
     "output_type": "execute_result"
    }
   ],
   "source": [
    "#### use predict set {-1, 1}\n",
    "predict = 'midup100ms'\n",
    "split  = StratifiedShuffleSplit(n_splits=1, test_size=0.2, random_state=3407)\n",
    "n =10000\n",
    "ind_select =  rng.choice(np.arange(len(df_combine)),size=n)\n",
    "#ind_select = np.arange(n) # no randomization\n",
    "try:\n",
    "    df_combine.reset_index(inplace=True)\n",
    "except ValueError:\n",
    "    pass # already rest index\n",
    "df_select = df_combine.iloc[ind_select,:]\n",
    "for train_index, test_index in split.split(df_select, df_select[predict]):\n",
    "    train_set = df_combine[:n].loc[train_index]\n",
    "    test_set = df_combine[:n].loc[test_index]\n",
    "y_train = np.where(np.array(train_set[predict]), -1.0, 1.0)\n",
    "svm = Pipeline([\n",
    "    (\"scaler\", StandardScaler()),\n",
    "    (\"svm_clf\", SVC(kernel=\"poly\", degree=2, C=0.25, gamma=1.0, coef0=1.0, verbose=True)) # adjusting gamma for increased smoothness - trying to avoid trivial prediction\n",
    "])\n",
    "feature_names = ['ask_price', 'bid_price', 'ask_volume', 'bid_volume', \n",
    "                   'mid_price', 'spread', \n",
    "                   'dPask_dt', 'dPbid_dt', 'dVbid_dt', 'dVask_dt',\n",
    "                   'avg_trade_price_10ms','avg_trade_volume_10ms',\n",
    "                   'avg_trade_price_100ms','avg_trade_volume_100ms',\n",
    "                   'avg_trade_price_1s','avg_trade_volume_1s',\n",
    "                   'avg_trade_price_10s','avg_trade_volume_10s' \n",
    "                  ]\n",
    "svm.fit(train_set[feature_names], \n",
    "        y_train\n",
    "        )"
   ]
  },
  {
   "cell_type": "code",
   "execution_count": 17,
   "metadata": {},
   "outputs": [
    {
     "name": "stdout",
     "output_type": "stream",
     "text": [
      "[[   0  132]\n",
      " [   0 1868]]\n",
      "              precision    recall  f1-score   support\n",
      "\n",
      "        -1.0       0.00      0.00      0.00       132\n",
      "         1.0       0.93      1.00      0.97      1868\n",
      "\n",
      "    accuracy                           0.93      2000\n",
      "   macro avg       0.47      0.50      0.48      2000\n",
      "weighted avg       0.87      0.93      0.90      2000\n",
      "\n"
     ]
    },
    {
     "name": "stderr",
     "output_type": "stream",
     "text": [
      "c:\\Users\\E\\Anaconda3\\lib\\site-packages\\sklearn\\metrics\\_classification.py:1334: UndefinedMetricWarning:\n",
      "\n",
      "Precision and F-score are ill-defined and being set to 0.0 in labels with no predicted samples. Use `zero_division` parameter to control this behavior.\n",
      "\n",
      "c:\\Users\\E\\Anaconda3\\lib\\site-packages\\sklearn\\metrics\\_classification.py:1334: UndefinedMetricWarning:\n",
      "\n",
      "Precision and F-score are ill-defined and being set to 0.0 in labels with no predicted samples. Use `zero_division` parameter to control this behavior.\n",
      "\n",
      "c:\\Users\\E\\Anaconda3\\lib\\site-packages\\sklearn\\metrics\\_classification.py:1334: UndefinedMetricWarning:\n",
      "\n",
      "Precision and F-score are ill-defined and being set to 0.0 in labels with no predicted samples. Use `zero_division` parameter to control this behavior.\n",
      "\n"
     ]
    }
   ],
   "source": [
    "svm_predict = svm.predict(test_set[feature_names])\n",
    "y_test = np.where(np.array(test_set[predict]), -1.0, 1.0)\n",
    "print(confusion_matrix(y_test, svm_predict))\n",
    "print(classification_report(y_test, svm_predict))"
   ]
  },
  {
   "cell_type": "code",
   "execution_count": 119,
   "metadata": {},
   "outputs": [
    {
     "name": "stdout",
     "output_type": "stream",
     "text": [
      "[LibSVM]"
     ]
    },
    {
     "data": {
      "text/html": [
       "<style>#sk-container-id-5 {color: black;background-color: white;}#sk-container-id-5 pre{padding: 0;}#sk-container-id-5 div.sk-toggleable {background-color: white;}#sk-container-id-5 label.sk-toggleable__label {cursor: pointer;display: block;width: 100%;margin-bottom: 0;padding: 0.3em;box-sizing: border-box;text-align: center;}#sk-container-id-5 label.sk-toggleable__label-arrow:before {content: \"▸\";float: left;margin-right: 0.25em;color: #696969;}#sk-container-id-5 label.sk-toggleable__label-arrow:hover:before {color: black;}#sk-container-id-5 div.sk-estimator:hover label.sk-toggleable__label-arrow:before {color: black;}#sk-container-id-5 div.sk-toggleable__content {max-height: 0;max-width: 0;overflow: hidden;text-align: left;background-color: #f0f8ff;}#sk-container-id-5 div.sk-toggleable__content pre {margin: 0.2em;color: black;border-radius: 0.25em;background-color: #f0f8ff;}#sk-container-id-5 input.sk-toggleable__control:checked~div.sk-toggleable__content {max-height: 200px;max-width: 100%;overflow: auto;}#sk-container-id-5 input.sk-toggleable__control:checked~label.sk-toggleable__label-arrow:before {content: \"▾\";}#sk-container-id-5 div.sk-estimator input.sk-toggleable__control:checked~label.sk-toggleable__label {background-color: #d4ebff;}#sk-container-id-5 div.sk-label input.sk-toggleable__control:checked~label.sk-toggleable__label {background-color: #d4ebff;}#sk-container-id-5 input.sk-hidden--visually {border: 0;clip: rect(1px 1px 1px 1px);clip: rect(1px, 1px, 1px, 1px);height: 1px;margin: -1px;overflow: hidden;padding: 0;position: absolute;width: 1px;}#sk-container-id-5 div.sk-estimator {font-family: monospace;background-color: #f0f8ff;border: 1px dotted black;border-radius: 0.25em;box-sizing: border-box;margin-bottom: 0.5em;}#sk-container-id-5 div.sk-estimator:hover {background-color: #d4ebff;}#sk-container-id-5 div.sk-parallel-item::after {content: \"\";width: 100%;border-bottom: 1px solid gray;flex-grow: 1;}#sk-container-id-5 div.sk-label:hover label.sk-toggleable__label {background-color: #d4ebff;}#sk-container-id-5 div.sk-serial::before {content: \"\";position: absolute;border-left: 1px solid gray;box-sizing: border-box;top: 0;bottom: 0;left: 50%;z-index: 0;}#sk-container-id-5 div.sk-serial {display: flex;flex-direction: column;align-items: center;background-color: white;padding-right: 0.2em;padding-left: 0.2em;position: relative;}#sk-container-id-5 div.sk-item {position: relative;z-index: 1;}#sk-container-id-5 div.sk-parallel {display: flex;align-items: stretch;justify-content: center;background-color: white;position: relative;}#sk-container-id-5 div.sk-item::before, #sk-container-id-5 div.sk-parallel-item::before {content: \"\";position: absolute;border-left: 1px solid gray;box-sizing: border-box;top: 0;bottom: 0;left: 50%;z-index: -1;}#sk-container-id-5 div.sk-parallel-item {display: flex;flex-direction: column;z-index: 1;position: relative;background-color: white;}#sk-container-id-5 div.sk-parallel-item:first-child::after {align-self: flex-end;width: 50%;}#sk-container-id-5 div.sk-parallel-item:last-child::after {align-self: flex-start;width: 50%;}#sk-container-id-5 div.sk-parallel-item:only-child::after {width: 0;}#sk-container-id-5 div.sk-dashed-wrapped {border: 1px dashed gray;margin: 0 0.4em 0.5em 0.4em;box-sizing: border-box;padding-bottom: 0.4em;background-color: white;}#sk-container-id-5 div.sk-label label {font-family: monospace;font-weight: bold;display: inline-block;line-height: 1.2em;}#sk-container-id-5 div.sk-label-container {text-align: center;}#sk-container-id-5 div.sk-container {/* jupyter's `normalize.less` sets `[hidden] { display: none; }` but bootstrap.min.css set `[hidden] { display: none !important; }` so we also need the `!important` here to be able to override the default hidden behavior on the sphinx rendered scikit-learn.org. See: https://github.com/scikit-learn/scikit-learn/issues/21755 */display: inline-block !important;position: relative;}#sk-container-id-5 div.sk-text-repr-fallback {display: none;}</style><div id=\"sk-container-id-5\" class=\"sk-top-container\"><div class=\"sk-text-repr-fallback\"><pre>Pipeline(steps=[(&#x27;scaler&#x27;, StandardScaler()),\n",
       "                (&#x27;svm_clf&#x27;,\n",
       "                 SVC(C=0.25, coef0=1.0, degree=2, gamma=1.0, kernel=&#x27;poly&#x27;,\n",
       "                     verbose=True))])</pre><b>In a Jupyter environment, please rerun this cell to show the HTML representation or trust the notebook. <br />On GitHub, the HTML representation is unable to render, please try loading this page with nbviewer.org.</b></div><div class=\"sk-container\" hidden><div class=\"sk-item sk-dashed-wrapped\"><div class=\"sk-label-container\"><div class=\"sk-label sk-toggleable\"><input class=\"sk-toggleable__control sk-hidden--visually\" id=\"sk-estimator-id-13\" type=\"checkbox\" ><label for=\"sk-estimator-id-13\" class=\"sk-toggleable__label sk-toggleable__label-arrow\">Pipeline</label><div class=\"sk-toggleable__content\"><pre>Pipeline(steps=[(&#x27;scaler&#x27;, StandardScaler()),\n",
       "                (&#x27;svm_clf&#x27;,\n",
       "                 SVC(C=0.25, coef0=1.0, degree=2, gamma=1.0, kernel=&#x27;poly&#x27;,\n",
       "                     verbose=True))])</pre></div></div></div><div class=\"sk-serial\"><div class=\"sk-item\"><div class=\"sk-estimator sk-toggleable\"><input class=\"sk-toggleable__control sk-hidden--visually\" id=\"sk-estimator-id-14\" type=\"checkbox\" ><label for=\"sk-estimator-id-14\" class=\"sk-toggleable__label sk-toggleable__label-arrow\">StandardScaler</label><div class=\"sk-toggleable__content\"><pre>StandardScaler()</pre></div></div></div><div class=\"sk-item\"><div class=\"sk-estimator sk-toggleable\"><input class=\"sk-toggleable__control sk-hidden--visually\" id=\"sk-estimator-id-15\" type=\"checkbox\" ><label for=\"sk-estimator-id-15\" class=\"sk-toggleable__label sk-toggleable__label-arrow\">SVC</label><div class=\"sk-toggleable__content\"><pre>SVC(C=0.25, coef0=1.0, degree=2, gamma=1.0, kernel=&#x27;poly&#x27;, verbose=True)</pre></div></div></div></div></div></div></div>"
      ],
      "text/plain": [
       "Pipeline(steps=[('scaler', StandardScaler()),\n",
       "                ('svm_clf',\n",
       "                 SVC(C=0.25, coef0=1.0, degree=2, gamma=1.0, kernel='poly',\n",
       "                     verbose=True))])"
      ]
     },
     "execution_count": 119,
     "metadata": {},
     "output_type": "execute_result"
    }
   ],
   "source": [
    "#### use predict set {-1, 1}\n",
    "#df_clean = pd.read_feather('clean_features_221105_trades_ddt.f')\n",
    "predict = 'spreaddown50ms'\n",
    "split  = StratifiedShuffleSplit(n_splits=1, test_size=0.2, random_state=3407)\n",
    "n = 10000\n",
    "#ind_select =  np.random.choice(np.arange(len(df_clean)),size=n)\n",
    "ind_select = np.arange(n) # no randomization\n",
    "try:\n",
    "    df_combine.reset_index(inplace=True)\n",
    "except ValueError:\n",
    "    pass # already rest index\n",
    "df_select = df_combine.iloc[ind_select,:]\n",
    "for train_index, test_index in split.split(df_select, df_select[predict]):\n",
    "    train_set = df_combine[:n].loc[train_index]\n",
    "    test_set = df_combine[:n].loc[test_index]\n",
    "y_train = np.where(np.array(train_set[predict]), -1.0, 1.0)\n",
    "svm = Pipeline([\n",
    "    (\"scaler\", StandardScaler()),\n",
    "    (\"svm_clf\", SVC(kernel=\"poly\", degree=2, C=0.25, gamma=1.0, coef0=1.0, verbose=True)) # adjusting gamma for increased smoothness - trying to avoid trivial prediction\n",
    "])\n",
    "feature_names = ['ask_price', 'bid_price', 'ask_volume', 'bid_volume', \n",
    "                   'mid_price', 'spread', \n",
    "                   'dPask_dt', 'dPbid_dt', 'dVbid_dt', 'dVask_dt',\n",
    "                   'avg_trade_price_10ms','avg_trade_volume_10ms',\n",
    "                   'avg_trade_price_100ms','avg_trade_volume_100ms',\n",
    "                   'avg_trade_price_1s','avg_trade_volume_1s',\n",
    "                   'avg_trade_price_10s','avg_trade_volume_10s' \n",
    "                  ]\n",
    "svm.fit(train_set[feature_names], \n",
    "        y_train\n",
    "        )"
   ]
  },
  {
   "cell_type": "code",
   "execution_count": 120,
   "metadata": {},
   "outputs": [
    {
     "name": "stdout",
     "output_type": "stream",
     "text": [
      "[[   1  728]\n",
      " [   2 1269]]\n",
      "              precision    recall  f1-score   support\n",
      "\n",
      "        -1.0       0.33      0.00      0.00       729\n",
      "         1.0       0.64      1.00      0.78      1271\n",
      "\n",
      "    accuracy                           0.64      2000\n",
      "   macro avg       0.48      0.50      0.39      2000\n",
      "weighted avg       0.53      0.64      0.49      2000\n",
      "\n"
     ]
    }
   ],
   "source": [
    "svm_predict = svm.predict(test_set[feature_names])\n",
    "y_test = np.where(np.array(test_set[predict]), -1.0, 1.0)\n",
    "print(confusion_matrix(y_test, svm_predict))\n",
    "print(classification_report(y_test, svm_predict))"
   ]
  },
  {
   "cell_type": "markdown",
   "metadata": {},
   "source": [
    "### 10 ms ahead prediction"
   ]
  },
  {
   "cell_type": "code",
   "execution_count": 29,
   "metadata": {},
   "outputs": [
    {
     "name": "stdout",
     "output_type": "stream",
     "text": [
      "[LibSVM][[   3  284]\n",
      " [   2 1711]]\n",
      "              precision    recall  f1-score   support\n",
      "\n",
      "        -1.0       0.60      0.01      0.02       287\n",
      "         1.0       0.86      1.00      0.92      1713\n",
      "\n",
      "    accuracy                           0.86      2000\n",
      "   macro avg       0.73      0.50      0.47      2000\n",
      "weighted avg       0.82      0.86      0.79      2000\n",
      "\n"
     ]
    }
   ],
   "source": [
    "#### use predict set {-1, 1}\n",
    "#df_clean = pd.read_feather('clean_features_221105_trades_ddt.f')\n",
    "df_combine = pd.read_feather('clean_combine_10e_10ms_AAPL_20200106.f')\n",
    "predict = 'spreadup10ms'\n",
    "split  = StratifiedShuffleSplit(n_splits=1, test_size=0.2, random_state=3407)\n",
    "n = 10000\n",
    "#ind_select =  np.random.choice(np.arange(len(df_clean)),size=n)\n",
    "ind_select = np.arange(n) # no randomization\n",
    "try:\n",
    "    df_combine.reset_index(inplace=True)\n",
    "except ValueError:\n",
    "    pass # already rest index\n",
    "df_select = df_combine.iloc[ind_select,:]\n",
    "for train_index, test_index in split.split(df_select, df_select[predict]):\n",
    "    train_set = df_combine[:n].loc[train_index]\n",
    "    test_set = df_combine[:n].loc[test_index]\n",
    "y_train = np.where(np.array(train_set[predict]), -1.0, 1.0)\n",
    "svm = Pipeline([\n",
    "    (\"scaler\", StandardScaler()),\n",
    "    (\"svm_clf\", SVC(kernel=\"poly\", degree=2, C=0.25, gamma=1.0, coef0=1.0, verbose=True)) # adjusting gamma for increased smoothness - trying to avoid trivial prediction\n",
    "])\n",
    "feature_names = ['ask_price', 'bid_price', 'ask_volume', 'bid_volume', \n",
    "                   'mid_price', 'spread', \n",
    "                   'dPask_dt', 'dPbid_dt', 'dVbid_dt', 'dVask_dt',\n",
    "                   'avg_trade_price_10ms','avg_trade_volume_10ms',\n",
    "                   'avg_trade_price_100ms','avg_trade_volume_100ms',\n",
    "                   'avg_trade_price_1s','avg_trade_volume_1s',\n",
    "                   'avg_trade_price_10s','avg_trade_volume_10s' \n",
    "                  ]\n",
    "svm.fit(train_set[feature_names], \n",
    "        y_train\n",
    "        )\n",
    "svm_predict = svm.predict(test_set[feature_names])\n",
    "y_test = np.where(np.array(test_set[predict]), -1.0, 1.0)\n",
    "print(confusion_matrix(y_test, svm_predict))\n",
    "print(classification_report(y_test, svm_predict))"
   ]
  },
  {
   "cell_type": "code",
   "execution_count": 130,
   "metadata": {},
   "outputs": [
    {
     "name": "stdout",
     "output_type": "stream",
     "text": [
      "[[   0  233]\n",
      " [   2 1765]]\n",
      "              precision    recall  f1-score   support\n",
      "\n",
      "        -1.0       0.00      0.00      0.00       233\n",
      "         1.0       0.88      1.00      0.94      1767\n",
      "\n",
      "    accuracy                           0.88      2000\n",
      "   macro avg       0.44      0.50      0.47      2000\n",
      "weighted avg       0.78      0.88      0.83      2000\n",
      "\n"
     ]
    }
   ],
   "source": [
    "svm_predict = svm.predict(test_set[feature_names])\n",
    "y_test = np.where(np.array(test_set[predict]), -1.0, 1.0)\n",
    "print(confusion_matrix(y_test, svm_predict))\n",
    "print(classification_report(y_test, svm_predict))"
   ]
  },
  {
   "cell_type": "code",
   "execution_count": null,
   "metadata": {},
   "outputs": [],
   "source": []
  }
 ],
 "metadata": {
  "kernelspec": {
   "display_name": "base",
   "language": "python",
   "name": "python3"
  },
  "language_info": {
   "codemirror_mode": {
    "name": "ipython",
    "version": 3
   },
   "file_extension": ".py",
   "mimetype": "text/x-python",
   "name": "python",
   "nbconvert_exporter": "python",
   "pygments_lexer": "ipython3",
   "version": "3.8.5"
  },
  "orig_nbformat": 4,
  "vscode": {
   "interpreter": {
    "hash": "078ac81e2b2852bb637df30caaf44341a661a1dcf7f43814fa7a1961f9b91a88"
   }
  }
 },
 "nbformat": 4,
 "nbformat_minor": 2
}
